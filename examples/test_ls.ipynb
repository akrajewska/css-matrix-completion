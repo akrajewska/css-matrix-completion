{
 "cells": [
  {
   "cell_type": "code",
   "execution_count": 1,
   "metadata": {
    "collapsed": true
   },
   "outputs": [],
   "source": [
    "import numba as nb\n",
    "import numpy as np\n"
   ]
  },
  {
   "cell_type": "code",
   "execution_count": 2,
   "outputs": [],
   "source": [
    "from css_matrix_completion.css import uniform\n",
    "from utils.data_generation import create_rank_k_dataset\n",
    "import numpy as np\n",
    "\n",
    "M, M_incomplete, omega, mask_array = create_rank_k_dataset(100, 100, 10, gaussian=True)\n",
    "cols_selected = uniform(M, 50)\n",
    "C = M[:, cols_selected]\n",
    "#\n",
    "# M = np.asfortranarray(M)\n",
    "# C = np.asfortranarray(C)\n",
    "# mask_array = np.asfortranarray(mask_array)\n",
    "# print(f'D {np.isfortran(C)}')\n",
    "#\n",
    "# C = np.ascontiguousarray(C)"
   ],
   "metadata": {
    "collapsed": false
   }
  },
  {
   "cell_type": "code",
   "execution_count": 3,
   "outputs": [
    {
     "name": "stderr",
     "output_type": "stream",
     "text": [
      "/tmp/ipykernel_51398/3372862875.py:19: NumbaPerformanceWarning: '@' is faster on contiguous arrays, called on (array(float64, 2d, A), array(float64, 2d, F))\n",
      "  return D@Y.T\n",
      "/home/tosia/.pyenv/versions/3.9.5/lib/python3.8/site-packages/numba/core/typing/npydecl.py:913: NumbaPerformanceWarning: '@' is faster on contiguous arrays, called on (array(float64, 2d, A), array(float64, 2d, F))\n",
      "  warnings.warn(NumbaPerformanceWarning(msg))\n"
     ]
    }
   ],
   "source": [
    "@nb.njit(nb.float64[:,:](nb.float64[:,:],nb.boolean[:,:], nb.float64[:, :]), parallel=True, nogil=True)\n",
    "def cx(X, ok_mask, D):\n",
    "    # m, n = X.shape\n",
    "    m, n = X.shape\n",
    "    _, k = D.shape\n",
    "    Y = np.zeros((n, k))\n",
    "    # For each row, solve a k-dimensional regression problem\n",
    "    # only over the nonp.isfortran(nzero projection entries. Note that the\n",
    "    # projection changes the least-squares matrix siX so we\n",
    "    # cannot vectorize the outer loop.\n",
    "    for i in nb.prange(n):\n",
    "        si = np.copy(ok_mask[:, i])\n",
    "        sia = X[si, i]\n",
    "        siX = D[si]\n",
    "        Y[i, :] = np.linalg.lstsq(siX, sia)[0]\n",
    "    # print(f'Y {np.isfortran(Y)}')\n",
    "    # print(f'D {np.isfortran(D)}')\n",
    "    # print(f'YT {np.isfortran(Y.T)}')\n",
    "    return D@Y.T"
   ],
   "metadata": {
    "collapsed": false
   }
  },
  {
   "cell_type": "code",
   "execution_count": 8,
   "outputs": [
    {
     "name": "stdout",
     "output_type": "stream",
     "text": [
      "CPU times: user 3min 1s, sys: 6min 54s, total: 9min 56s\n",
      "Wall time: 1min 20s\n"
     ]
    }
   ],
   "source": [
    "%%time\n",
    "X = cx(M, mask_array, C)"
   ],
   "metadata": {
    "collapsed": false
   }
  },
  {
   "cell_type": "code",
   "execution_count": 7,
   "outputs": [],
   "source": [
    "from numba import types\n",
    "\n",
    "\n",
    "#@nb.njit(types.Tuple((nb.float64[:], nb.float64[:]))(nb.float64[:,:],nb.float64[:,:]), parallel=True)\n",
    "def fit(XX, yy):\n",
    "    \"\"\"\"Fit a large set of points to a regression\"\"\"\n",
    "    assert XX.shape == yy.shape, \"Inputs mismatched\"\n",
    "    n_pnts, n_samples = XX.shape\n",
    "\n",
    "    scale = np.empty(n_pnts)\n",
    "    offset = np.empty(n_pnts)\n",
    "\n",
    "    for i in nb.prange(n_pnts):\n",
    "        X, y = XX[i], yy[i]\n",
    "        A = np.vstack((np.ones_like(X), X)).T\n",
    "        offset[i], scale[i] =  np.linalg.lstsq(A, y)[0]\n",
    "\n",
    "    return offset, scale\n"
   ],
   "metadata": {
    "collapsed": false
   }
  },
  {
   "cell_type": "code",
   "execution_count": 17,
   "outputs": [],
   "source": [
    "XX, yy = np.random.randn(2, 1000,1000)\n",
    "%%time\n",
    "fit(XX, yy)"
   ],
   "metadata": {
    "collapsed": false
   }
  },
  {
   "cell_type": "code",
   "execution_count": 6,
   "outputs": [
    {
     "name": "stderr",
     "output_type": "stream",
     "text": [
      "/tmp/ipykernel_13923/1134940552.py:15: FutureWarning: `rcond` parameter will change to the default of machine precision times ``max(M, N)`` where M and N are the input matrix dimensions.\n",
      "To use the future default and silence this warning we advise to pass `rcond=None`, to keep using the old, explicitly pass `rcond=-1`.\n",
      "  Y[i, :] = np.linalg.lstsq(siX, sia)[0]\n"
     ]
    },
    {
     "data": {
      "text/plain": "array([[-6.81016576,  1.29227445, -1.59384695, ...,  1.82509451,\n         0.71069245, -0.91610306],\n       [-3.68628197,  0.07361209, -2.90964181, ..., -0.16190265,\n         4.09533825,  2.9135026 ],\n       [ 0.6028191 , -1.0232053 , -4.44192259, ..., -1.42835732,\n         1.83011005,  1.32888591],\n       ...,\n       [-0.18568346, -2.3580204 , -0.46859365, ..., -0.90908786,\n        -3.64575814,  2.39929203],\n       [-1.61814118, -1.19700224,  0.41052628, ..., -1.57706502,\n         2.93690241, -0.19560642],\n       [-0.46351974, -2.87743598,  7.42933315, ..., -0.95331787,\n         0.93849256,  2.2059717 ]])"
     },
     "execution_count": 6,
     "metadata": {},
     "output_type": "execute_result"
    }
   ],
   "source": [
    "import numpy as np\n",
    "\n",
    "def cx(X, ok_mask, C):\n",
    "    m, n = X.shape\n",
    "    _, k = C.shape\n",
    "    Y = np.zeros((n, k))\n",
    "    # For each row, solve a k-dimensional regression problem\n",
    "    # only over the nonzero projection entries. Note that the\n",
    "    # projection changes the least-squares matrix siX so we\n",
    "    # cannot vectorize the outer loop.\n",
    "    for i in range(n):\n",
    "        si = ok_mask[:, i]\n",
    "        sia = X[si, i]\n",
    "        siX = C[si]\n",
    "        Y[i, :] = np.linalg.lstsq(siX, sia)[0]\n",
    "    return C@Y.T\n",
    "\n",
    "cx(M, mask_array, C)"
   ],
   "metadata": {
    "collapsed": false
   }
  },
  {
   "cell_type": "code",
   "execution_count": 19,
   "outputs": [],
   "source": [
    "#@nb.njit(nb.float64[:,:](nb.float64[:,:], nb.float64[:, ::1]), parallel=True)\n",
    "def cx_all(X, D):\n",
    "    # m, n = X.shape\n",
    "    m, n = X.shape\n",
    "    _, k = D.shape\n",
    "    Y = np.zeros((n, k))\n",
    "    # For each row, solve a k-dimensional regression problem\n",
    "    # only over the nonp.isfortran(nzero projection entries. Note that the\n",
    "    # projection changes the least-squares matrix siX so we\n",
    "    # cannot vectorize the outer loop.\n",
    "    for i in nb.prange(n):\n",
    "        sia = X[:, i]\n",
    "        siX = np.ones(D.shape)\n",
    "        Y[i, :] = np.linalg.lstsq(siX, sia)[0]\n",
    "    # print(f'Y {np.isfortran(Y)}')\n",
    "    # print(f'D {np.isfortran(D)}')\n",
    "    # print(f'YT {np.isfortran(Y.T)}')\n",
    "    return Y.T"
   ],
   "metadata": {
    "collapsed": false
   }
  },
  {
   "cell_type": "code",
   "execution_count": 18,
   "outputs": [
    {
     "name": "stdout",
     "output_type": "stream",
     "text": [
      "CPU times: user 3min 15s, sys: 7min 45s, total: 11min 1s\n",
      "Wall time: 1min 26s\n"
     ]
    },
    {
     "data": {
      "text/plain": "array([[-3.29018279e+12,  8.07221545e+11,  8.57921840e+11, ...,\n         9.65313640e+11,  1.47952658e+12, -5.10188914e+11],\n       [ 1.10447541e+12, -1.69947717e+11, -3.59894629e+11, ...,\n        -4.06267638e+11, -4.98647537e+11,  3.03114845e+10],\n       [ 1.10447541e+12, -1.69947717e+11, -3.59894629e+11, ...,\n        -4.06267638e+11, -4.98647537e+11,  3.03114845e+10],\n       ...,\n       [-2.77610602e+10, -4.92988318e+09,  1.55946591e+10, ...,\n         1.77004522e+10,  1.27146032e+10,  1.20760959e+10],\n       [-2.77610602e+10, -4.92988318e+09,  1.55946591e+10, ...,\n         1.77004522e+10,  1.27146032e+10,  1.20760959e+10],\n       [-2.77563876e+10, -4.93116524e+09,  1.55935372e+10, ...,\n         1.76991917e+10,  1.27125047e+10,  1.20770098e+10]])"
     },
     "execution_count": 18,
     "metadata": {},
     "output_type": "execute_result"
    }
   ],
   "source": [
    "%%time\n",
    "cx_all(M, C)"
   ],
   "metadata": {
    "collapsed": false
   }
  },
  {
   "cell_type": "code",
   "execution_count": 20,
   "outputs": [
    {
     "name": "stderr",
     "output_type": "stream",
     "text": [
      "/tmp/ipykernel_15739/2835844481.py:14: FutureWarning: `rcond` parameter will change to the default of machine precision times ``max(M, N)`` where M and N are the input matrix dimensions.\n",
      "To use the future default and silence this warning we advise to pass `rcond=None`, to keep using the old, explicitly pass `rcond=-1`.\n",
      "  Y[i, :] = np.linalg.lstsq(siX, sia)[0]\n"
     ]
    },
    {
     "name": "stdout",
     "output_type": "stream",
     "text": [
      "CPU times: user 6min 36s, sys: 8min 24s, total: 15min 1s\n",
      "Wall time: 1min 59s\n"
     ]
    },
    {
     "data": {
      "text/plain": "array([[-3.10162861e+12,  6.19504381e+11,  1.02909056e+12, ...,\n         1.34751404e+12,  1.25290192e+12, -4.48310735e+11],\n       [ 1.05856822e+12, -4.95930967e+10, -4.00858506e+11, ...,\n        -5.54379916e+11, -3.73523619e+11, -1.26645540e+10],\n       [ 1.05856822e+12, -4.95930967e+10, -4.00858506e+11, ...,\n        -5.54379916e+11, -3.73523619e+11, -1.26645540e+10],\n       ...,\n       [-2.81940284e+10, -1.31767255e+10,  1.51228651e+10, ...,\n         2.32289979e+10,  5.10358289e+09,  1.51780139e+10],\n       [-2.81940284e+10, -1.31767255e+10,  1.51228651e+10, ...,\n         2.32289979e+10,  5.10358289e+09,  1.51780139e+10],\n       [-2.81940284e+10, -1.31767255e+10,  1.51228651e+10, ...,\n         2.32289979e+10,  5.10358289e+09,  1.51780139e+10]])"
     },
     "execution_count": 20,
     "metadata": {},
     "output_type": "execute_result"
    }
   ],
   "source": [
    "%%time\n",
    "cx_all(M, C)"
   ],
   "metadata": {
    "collapsed": false
   }
  },
  {
   "cell_type": "code",
   "execution_count": 12,
   "outputs": [
    {
     "ename": "TypingError",
     "evalue": "Failed in nopython mode pipeline (step: nopython frontend)\nUnknown attribute 'compute' of type Module(<module 'dask' from '/home/tosia/.pyenv/versions/3.9.5/lib/python3.8/site-packages/dask/__init__.py'>)\n\nFile \"../../../../../tmp/ipykernel_9418/2537065620.py\", line 27:\n<source missing, REPL/exec in use?>\n\nDuring: typing of get attribute at /tmp/ipykernel_9418/2537065620.py (27)\n\nFile \"../../../../../tmp/ipykernel_9418/2537065620.py\", line 27:\n<source missing, REPL/exec in use?>\n",
     "output_type": "error",
     "traceback": [
      "\u001B[0;31m---------------------------------------------------------------------------\u001B[0m",
      "\u001B[0;31mTypingError\u001B[0m                               Traceback (most recent call last)",
      "Cell \u001B[0;32mIn [12], line 5\u001B[0m\n\u001B[1;32m      1\u001B[0m \u001B[38;5;28;01mimport\u001B[39;00m \u001B[38;5;21;01mdask\u001B[39;00m\n\u001B[1;32m      2\u001B[0m \u001B[38;5;28;01mimport\u001B[39;00m \u001B[38;5;21;01mnumba\u001B[39;00m \u001B[38;5;28;01mas\u001B[39;00m \u001B[38;5;21;01mnb\u001B[39;00m\n\u001B[1;32m      4\u001B[0m \u001B[38;5;129m@nb\u001B[39m\u001B[38;5;241m.\u001B[39mnjit(nb\u001B[38;5;241m.\u001B[39mfloat64[:,:](nb\u001B[38;5;241m.\u001B[39mfloat64[:,:], nb\u001B[38;5;241m.\u001B[39mfloat64[:, :]), parallel\u001B[38;5;241m=\u001B[39m\u001B[38;5;28;01mTrue\u001B[39;00m, nogil\u001B[38;5;241m=\u001B[39m\u001B[38;5;28;01mTrue\u001B[39;00m)\n\u001B[0;32m----> 5\u001B[0m \u001B[38;5;28;01mdef\u001B[39;00m \u001B[38;5;21mls_grad\u001B[39m(X, Y):\n\u001B[1;32m      6\u001B[0m     _, s, _ \u001B[38;5;241m=\u001B[39m np\u001B[38;5;241m.\u001B[39mlinalg\u001B[38;5;241m.\u001B[39msvd(\u001B[38;5;241m2\u001B[39m \u001B[38;5;241m*\u001B[39m X\u001B[38;5;241m.\u001B[39mT\u001B[38;5;241m.\u001B[39mdot(X))\n\u001B[1;32m      7\u001B[0m     step_size \u001B[38;5;241m=\u001B[39m \u001B[38;5;241m1\u001B[39m \u001B[38;5;241m/\u001B[39m s \u001B[38;5;241m-\u001B[39m \u001B[38;5;241m1e-8\u001B[39m\n",
      "File \u001B[0;32m~/.pyenv/versions/3.9.5/lib/python3.8/site-packages/numba/core/decorators.py:219\u001B[0m, in \u001B[0;36m_jit.<locals>.wrapper\u001B[0;34m(func)\u001B[0m\n\u001B[1;32m    217\u001B[0m     \u001B[38;5;28;01mwith\u001B[39;00m typeinfer\u001B[38;5;241m.\u001B[39mregister_dispatcher(disp):\n\u001B[1;32m    218\u001B[0m         \u001B[38;5;28;01mfor\u001B[39;00m sig \u001B[38;5;129;01min\u001B[39;00m sigs:\n\u001B[0;32m--> 219\u001B[0m             \u001B[43mdisp\u001B[49m\u001B[38;5;241;43m.\u001B[39;49m\u001B[43mcompile\u001B[49m\u001B[43m(\u001B[49m\u001B[43msig\u001B[49m\u001B[43m)\u001B[49m\n\u001B[1;32m    220\u001B[0m         disp\u001B[38;5;241m.\u001B[39mdisable_compile()\n\u001B[1;32m    221\u001B[0m \u001B[38;5;28;01mreturn\u001B[39;00m disp\n",
      "File \u001B[0;32m~/.pyenv/versions/3.9.5/lib/python3.8/site-packages/numba/core/dispatcher.py:965\u001B[0m, in \u001B[0;36mDispatcher.compile\u001B[0;34m(self, sig)\u001B[0m\n\u001B[1;32m    963\u001B[0m \u001B[38;5;28;01mwith\u001B[39;00m ev\u001B[38;5;241m.\u001B[39mtrigger_event(\u001B[38;5;124m\"\u001B[39m\u001B[38;5;124mnumba:compile\u001B[39m\u001B[38;5;124m\"\u001B[39m, data\u001B[38;5;241m=\u001B[39mev_details):\n\u001B[1;32m    964\u001B[0m     \u001B[38;5;28;01mtry\u001B[39;00m:\n\u001B[0;32m--> 965\u001B[0m         cres \u001B[38;5;241m=\u001B[39m \u001B[38;5;28;43mself\u001B[39;49m\u001B[38;5;241;43m.\u001B[39;49m\u001B[43m_compiler\u001B[49m\u001B[38;5;241;43m.\u001B[39;49m\u001B[43mcompile\u001B[49m\u001B[43m(\u001B[49m\u001B[43margs\u001B[49m\u001B[43m,\u001B[49m\u001B[43m \u001B[49m\u001B[43mreturn_type\u001B[49m\u001B[43m)\u001B[49m\n\u001B[1;32m    966\u001B[0m     \u001B[38;5;28;01mexcept\u001B[39;00m errors\u001B[38;5;241m.\u001B[39mForceLiteralArg \u001B[38;5;28;01mas\u001B[39;00m e:\n\u001B[1;32m    967\u001B[0m         \u001B[38;5;28;01mdef\u001B[39;00m \u001B[38;5;21mfolded\u001B[39m(args, kws):\n",
      "File \u001B[0;32m~/.pyenv/versions/3.9.5/lib/python3.8/site-packages/numba/core/dispatcher.py:129\u001B[0m, in \u001B[0;36m_FunctionCompiler.compile\u001B[0;34m(self, args, return_type)\u001B[0m\n\u001B[1;32m    127\u001B[0m     \u001B[38;5;28;01mreturn\u001B[39;00m retval\n\u001B[1;32m    128\u001B[0m \u001B[38;5;28;01melse\u001B[39;00m:\n\u001B[0;32m--> 129\u001B[0m     \u001B[38;5;28;01mraise\u001B[39;00m retval\n",
      "File \u001B[0;32m~/.pyenv/versions/3.9.5/lib/python3.8/site-packages/numba/core/dispatcher.py:139\u001B[0m, in \u001B[0;36m_FunctionCompiler._compile_cached\u001B[0;34m(self, args, return_type)\u001B[0m\n\u001B[1;32m    136\u001B[0m     \u001B[38;5;28;01mpass\u001B[39;00m\n\u001B[1;32m    138\u001B[0m \u001B[38;5;28;01mtry\u001B[39;00m:\n\u001B[0;32m--> 139\u001B[0m     retval \u001B[38;5;241m=\u001B[39m \u001B[38;5;28;43mself\u001B[39;49m\u001B[38;5;241;43m.\u001B[39;49m\u001B[43m_compile_core\u001B[49m\u001B[43m(\u001B[49m\u001B[43margs\u001B[49m\u001B[43m,\u001B[49m\u001B[43m \u001B[49m\u001B[43mreturn_type\u001B[49m\u001B[43m)\u001B[49m\n\u001B[1;32m    140\u001B[0m \u001B[38;5;28;01mexcept\u001B[39;00m errors\u001B[38;5;241m.\u001B[39mTypingError \u001B[38;5;28;01mas\u001B[39;00m e:\n\u001B[1;32m    141\u001B[0m     \u001B[38;5;28mself\u001B[39m\u001B[38;5;241m.\u001B[39m_failed_cache[key] \u001B[38;5;241m=\u001B[39m e\n",
      "File \u001B[0;32m~/.pyenv/versions/3.9.5/lib/python3.8/site-packages/numba/core/dispatcher.py:152\u001B[0m, in \u001B[0;36m_FunctionCompiler._compile_core\u001B[0;34m(self, args, return_type)\u001B[0m\n\u001B[1;32m    149\u001B[0m flags \u001B[38;5;241m=\u001B[39m \u001B[38;5;28mself\u001B[39m\u001B[38;5;241m.\u001B[39m_customize_flags(flags)\n\u001B[1;32m    151\u001B[0m impl \u001B[38;5;241m=\u001B[39m \u001B[38;5;28mself\u001B[39m\u001B[38;5;241m.\u001B[39m_get_implementation(args, {})\n\u001B[0;32m--> 152\u001B[0m cres \u001B[38;5;241m=\u001B[39m \u001B[43mcompiler\u001B[49m\u001B[38;5;241;43m.\u001B[39;49m\u001B[43mcompile_extra\u001B[49m\u001B[43m(\u001B[49m\u001B[38;5;28;43mself\u001B[39;49m\u001B[38;5;241;43m.\u001B[39;49m\u001B[43mtargetdescr\u001B[49m\u001B[38;5;241;43m.\u001B[39;49m\u001B[43mtyping_context\u001B[49m\u001B[43m,\u001B[49m\n\u001B[1;32m    153\u001B[0m \u001B[43m                              \u001B[49m\u001B[38;5;28;43mself\u001B[39;49m\u001B[38;5;241;43m.\u001B[39;49m\u001B[43mtargetdescr\u001B[49m\u001B[38;5;241;43m.\u001B[39;49m\u001B[43mtarget_context\u001B[49m\u001B[43m,\u001B[49m\n\u001B[1;32m    154\u001B[0m \u001B[43m                              \u001B[49m\u001B[43mimpl\u001B[49m\u001B[43m,\u001B[49m\n\u001B[1;32m    155\u001B[0m \u001B[43m                              \u001B[49m\u001B[43margs\u001B[49m\u001B[38;5;241;43m=\u001B[39;49m\u001B[43margs\u001B[49m\u001B[43m,\u001B[49m\u001B[43m \u001B[49m\u001B[43mreturn_type\u001B[49m\u001B[38;5;241;43m=\u001B[39;49m\u001B[43mreturn_type\u001B[49m\u001B[43m,\u001B[49m\n\u001B[1;32m    156\u001B[0m \u001B[43m                              \u001B[49m\u001B[43mflags\u001B[49m\u001B[38;5;241;43m=\u001B[39;49m\u001B[43mflags\u001B[49m\u001B[43m,\u001B[49m\u001B[43m \u001B[49m\u001B[38;5;28;43mlocals\u001B[39;49m\u001B[38;5;241;43m=\u001B[39;49m\u001B[38;5;28;43mself\u001B[39;49m\u001B[38;5;241;43m.\u001B[39;49m\u001B[43mlocals\u001B[49m\u001B[43m,\u001B[49m\n\u001B[1;32m    157\u001B[0m \u001B[43m                              \u001B[49m\u001B[43mpipeline_class\u001B[49m\u001B[38;5;241;43m=\u001B[39;49m\u001B[38;5;28;43mself\u001B[39;49m\u001B[38;5;241;43m.\u001B[39;49m\u001B[43mpipeline_class\u001B[49m\u001B[43m)\u001B[49m\n\u001B[1;32m    158\u001B[0m \u001B[38;5;66;03m# Check typing error if object mode is used\u001B[39;00m\n\u001B[1;32m    159\u001B[0m \u001B[38;5;28;01mif\u001B[39;00m cres\u001B[38;5;241m.\u001B[39mtyping_error \u001B[38;5;129;01mis\u001B[39;00m \u001B[38;5;129;01mnot\u001B[39;00m \u001B[38;5;28;01mNone\u001B[39;00m \u001B[38;5;129;01mand\u001B[39;00m \u001B[38;5;129;01mnot\u001B[39;00m flags\u001B[38;5;241m.\u001B[39menable_pyobject:\n",
      "File \u001B[0;32m~/.pyenv/versions/3.9.5/lib/python3.8/site-packages/numba/core/compiler.py:716\u001B[0m, in \u001B[0;36mcompile_extra\u001B[0;34m(typingctx, targetctx, func, args, return_type, flags, locals, library, pipeline_class)\u001B[0m\n\u001B[1;32m    692\u001B[0m \u001B[38;5;124;03m\"\"\"Compiler entry point\u001B[39;00m\n\u001B[1;32m    693\u001B[0m \n\u001B[1;32m    694\u001B[0m \u001B[38;5;124;03mParameter\u001B[39;00m\n\u001B[0;32m   (...)\u001B[0m\n\u001B[1;32m    712\u001B[0m \u001B[38;5;124;03m    compiler pipeline\u001B[39;00m\n\u001B[1;32m    713\u001B[0m \u001B[38;5;124;03m\"\"\"\u001B[39;00m\n\u001B[1;32m    714\u001B[0m pipeline \u001B[38;5;241m=\u001B[39m pipeline_class(typingctx, targetctx, library,\n\u001B[1;32m    715\u001B[0m                           args, return_type, flags, \u001B[38;5;28mlocals\u001B[39m)\n\u001B[0;32m--> 716\u001B[0m \u001B[38;5;28;01mreturn\u001B[39;00m \u001B[43mpipeline\u001B[49m\u001B[38;5;241;43m.\u001B[39;49m\u001B[43mcompile_extra\u001B[49m\u001B[43m(\u001B[49m\u001B[43mfunc\u001B[49m\u001B[43m)\u001B[49m\n",
      "File \u001B[0;32m~/.pyenv/versions/3.9.5/lib/python3.8/site-packages/numba/core/compiler.py:452\u001B[0m, in \u001B[0;36mCompilerBase.compile_extra\u001B[0;34m(self, func)\u001B[0m\n\u001B[1;32m    450\u001B[0m \u001B[38;5;28mself\u001B[39m\u001B[38;5;241m.\u001B[39mstate\u001B[38;5;241m.\u001B[39mlifted \u001B[38;5;241m=\u001B[39m ()\n\u001B[1;32m    451\u001B[0m \u001B[38;5;28mself\u001B[39m\u001B[38;5;241m.\u001B[39mstate\u001B[38;5;241m.\u001B[39mlifted_from \u001B[38;5;241m=\u001B[39m \u001B[38;5;28;01mNone\u001B[39;00m\n\u001B[0;32m--> 452\u001B[0m \u001B[38;5;28;01mreturn\u001B[39;00m \u001B[38;5;28;43mself\u001B[39;49m\u001B[38;5;241;43m.\u001B[39;49m\u001B[43m_compile_bytecode\u001B[49m\u001B[43m(\u001B[49m\u001B[43m)\u001B[49m\n",
      "File \u001B[0;32m~/.pyenv/versions/3.9.5/lib/python3.8/site-packages/numba/core/compiler.py:520\u001B[0m, in \u001B[0;36mCompilerBase._compile_bytecode\u001B[0;34m(self)\u001B[0m\n\u001B[1;32m    516\u001B[0m \u001B[38;5;124;03m\"\"\"\u001B[39;00m\n\u001B[1;32m    517\u001B[0m \u001B[38;5;124;03mPopulate and run pipeline for bytecode input\u001B[39;00m\n\u001B[1;32m    518\u001B[0m \u001B[38;5;124;03m\"\"\"\u001B[39;00m\n\u001B[1;32m    519\u001B[0m \u001B[38;5;28;01massert\u001B[39;00m \u001B[38;5;28mself\u001B[39m\u001B[38;5;241m.\u001B[39mstate\u001B[38;5;241m.\u001B[39mfunc_ir \u001B[38;5;129;01mis\u001B[39;00m \u001B[38;5;28;01mNone\u001B[39;00m\n\u001B[0;32m--> 520\u001B[0m \u001B[38;5;28;01mreturn\u001B[39;00m \u001B[38;5;28;43mself\u001B[39;49m\u001B[38;5;241;43m.\u001B[39;49m\u001B[43m_compile_core\u001B[49m\u001B[43m(\u001B[49m\u001B[43m)\u001B[49m\n",
      "File \u001B[0;32m~/.pyenv/versions/3.9.5/lib/python3.8/site-packages/numba/core/compiler.py:499\u001B[0m, in \u001B[0;36mCompilerBase._compile_core\u001B[0;34m(self)\u001B[0m\n\u001B[1;32m    497\u001B[0m         \u001B[38;5;28mself\u001B[39m\u001B[38;5;241m.\u001B[39mstate\u001B[38;5;241m.\u001B[39mstatus\u001B[38;5;241m.\u001B[39mfail_reason \u001B[38;5;241m=\u001B[39m e\n\u001B[1;32m    498\u001B[0m         \u001B[38;5;28;01mif\u001B[39;00m is_final_pipeline:\n\u001B[0;32m--> 499\u001B[0m             \u001B[38;5;28;01mraise\u001B[39;00m e\n\u001B[1;32m    500\u001B[0m \u001B[38;5;28;01melse\u001B[39;00m:\n\u001B[1;32m    501\u001B[0m     \u001B[38;5;28;01mraise\u001B[39;00m CompilerError(\u001B[38;5;124m\"\u001B[39m\u001B[38;5;124mAll available pipelines exhausted\u001B[39m\u001B[38;5;124m\"\u001B[39m)\n",
      "File \u001B[0;32m~/.pyenv/versions/3.9.5/lib/python3.8/site-packages/numba/core/compiler.py:486\u001B[0m, in \u001B[0;36mCompilerBase._compile_core\u001B[0;34m(self)\u001B[0m\n\u001B[1;32m    484\u001B[0m res \u001B[38;5;241m=\u001B[39m \u001B[38;5;28;01mNone\u001B[39;00m\n\u001B[1;32m    485\u001B[0m \u001B[38;5;28;01mtry\u001B[39;00m:\n\u001B[0;32m--> 486\u001B[0m     \u001B[43mpm\u001B[49m\u001B[38;5;241;43m.\u001B[39;49m\u001B[43mrun\u001B[49m\u001B[43m(\u001B[49m\u001B[38;5;28;43mself\u001B[39;49m\u001B[38;5;241;43m.\u001B[39;49m\u001B[43mstate\u001B[49m\u001B[43m)\u001B[49m\n\u001B[1;32m    487\u001B[0m     \u001B[38;5;28;01mif\u001B[39;00m \u001B[38;5;28mself\u001B[39m\u001B[38;5;241m.\u001B[39mstate\u001B[38;5;241m.\u001B[39mcr \u001B[38;5;129;01mis\u001B[39;00m \u001B[38;5;129;01mnot\u001B[39;00m \u001B[38;5;28;01mNone\u001B[39;00m:\n\u001B[1;32m    488\u001B[0m         \u001B[38;5;28;01mbreak\u001B[39;00m\n",
      "File \u001B[0;32m~/.pyenv/versions/3.9.5/lib/python3.8/site-packages/numba/core/compiler_machinery.py:368\u001B[0m, in \u001B[0;36mPassManager.run\u001B[0;34m(self, state)\u001B[0m\n\u001B[1;32m    365\u001B[0m msg \u001B[38;5;241m=\u001B[39m \u001B[38;5;124m\"\u001B[39m\u001B[38;5;124mFailed in \u001B[39m\u001B[38;5;132;01m%s\u001B[39;00m\u001B[38;5;124m mode pipeline (step: \u001B[39m\u001B[38;5;132;01m%s\u001B[39;00m\u001B[38;5;124m)\u001B[39m\u001B[38;5;124m\"\u001B[39m \u001B[38;5;241m%\u001B[39m \\\n\u001B[1;32m    366\u001B[0m     (\u001B[38;5;28mself\u001B[39m\u001B[38;5;241m.\u001B[39mpipeline_name, pass_desc)\n\u001B[1;32m    367\u001B[0m patched_exception \u001B[38;5;241m=\u001B[39m \u001B[38;5;28mself\u001B[39m\u001B[38;5;241m.\u001B[39m_patch_error(msg, e)\n\u001B[0;32m--> 368\u001B[0m \u001B[38;5;28;01mraise\u001B[39;00m patched_exception\n",
      "File \u001B[0;32m~/.pyenv/versions/3.9.5/lib/python3.8/site-packages/numba/core/compiler_machinery.py:356\u001B[0m, in \u001B[0;36mPassManager.run\u001B[0;34m(self, state)\u001B[0m\n\u001B[1;32m    354\u001B[0m pass_inst \u001B[38;5;241m=\u001B[39m _pass_registry\u001B[38;5;241m.\u001B[39mget(pss)\u001B[38;5;241m.\u001B[39mpass_inst\n\u001B[1;32m    355\u001B[0m \u001B[38;5;28;01mif\u001B[39;00m \u001B[38;5;28misinstance\u001B[39m(pass_inst, CompilerPass):\n\u001B[0;32m--> 356\u001B[0m     \u001B[38;5;28;43mself\u001B[39;49m\u001B[38;5;241;43m.\u001B[39;49m\u001B[43m_runPass\u001B[49m\u001B[43m(\u001B[49m\u001B[43midx\u001B[49m\u001B[43m,\u001B[49m\u001B[43m \u001B[49m\u001B[43mpass_inst\u001B[49m\u001B[43m,\u001B[49m\u001B[43m \u001B[49m\u001B[43mstate\u001B[49m\u001B[43m)\u001B[49m\n\u001B[1;32m    357\u001B[0m \u001B[38;5;28;01melse\u001B[39;00m:\n\u001B[1;32m    358\u001B[0m     \u001B[38;5;28;01mraise\u001B[39;00m \u001B[38;5;167;01mBaseException\u001B[39;00m(\u001B[38;5;124m\"\u001B[39m\u001B[38;5;124mLegacy pass in use\u001B[39m\u001B[38;5;124m\"\u001B[39m)\n",
      "File \u001B[0;32m~/.pyenv/versions/3.9.5/lib/python3.8/site-packages/numba/core/compiler_lock.py:35\u001B[0m, in \u001B[0;36m_CompilerLock.__call__.<locals>._acquire_compile_lock\u001B[0;34m(*args, **kwargs)\u001B[0m\n\u001B[1;32m     32\u001B[0m \u001B[38;5;129m@functools\u001B[39m\u001B[38;5;241m.\u001B[39mwraps(func)\n\u001B[1;32m     33\u001B[0m \u001B[38;5;28;01mdef\u001B[39;00m \u001B[38;5;21m_acquire_compile_lock\u001B[39m(\u001B[38;5;241m*\u001B[39margs, \u001B[38;5;241m*\u001B[39m\u001B[38;5;241m*\u001B[39mkwargs):\n\u001B[1;32m     34\u001B[0m     \u001B[38;5;28;01mwith\u001B[39;00m \u001B[38;5;28mself\u001B[39m:\n\u001B[0;32m---> 35\u001B[0m         \u001B[38;5;28;01mreturn\u001B[39;00m \u001B[43mfunc\u001B[49m\u001B[43m(\u001B[49m\u001B[38;5;241;43m*\u001B[39;49m\u001B[43margs\u001B[49m\u001B[43m,\u001B[49m\u001B[43m \u001B[49m\u001B[38;5;241;43m*\u001B[39;49m\u001B[38;5;241;43m*\u001B[39;49m\u001B[43mkwargs\u001B[49m\u001B[43m)\u001B[49m\n",
      "File \u001B[0;32m~/.pyenv/versions/3.9.5/lib/python3.8/site-packages/numba/core/compiler_machinery.py:311\u001B[0m, in \u001B[0;36mPassManager._runPass\u001B[0;34m(self, index, pss, internal_state)\u001B[0m\n\u001B[1;32m    309\u001B[0m     mutated \u001B[38;5;241m|\u001B[39m\u001B[38;5;241m=\u001B[39m check(pss\u001B[38;5;241m.\u001B[39mrun_initialization, internal_state)\n\u001B[1;32m    310\u001B[0m \u001B[38;5;28;01mwith\u001B[39;00m SimpleTimer() \u001B[38;5;28;01mas\u001B[39;00m pass_time:\n\u001B[0;32m--> 311\u001B[0m     mutated \u001B[38;5;241m|\u001B[39m\u001B[38;5;241m=\u001B[39m \u001B[43mcheck\u001B[49m\u001B[43m(\u001B[49m\u001B[43mpss\u001B[49m\u001B[38;5;241;43m.\u001B[39;49m\u001B[43mrun_pass\u001B[49m\u001B[43m,\u001B[49m\u001B[43m \u001B[49m\u001B[43minternal_state\u001B[49m\u001B[43m)\u001B[49m\n\u001B[1;32m    312\u001B[0m \u001B[38;5;28;01mwith\u001B[39;00m SimpleTimer() \u001B[38;5;28;01mas\u001B[39;00m finalize_time:\n\u001B[1;32m    313\u001B[0m     mutated \u001B[38;5;241m|\u001B[39m\u001B[38;5;241m=\u001B[39m check(pss\u001B[38;5;241m.\u001B[39mrun_finalizer, internal_state)\n",
      "File \u001B[0;32m~/.pyenv/versions/3.9.5/lib/python3.8/site-packages/numba/core/compiler_machinery.py:273\u001B[0m, in \u001B[0;36mPassManager._runPass.<locals>.check\u001B[0;34m(func, compiler_state)\u001B[0m\n\u001B[1;32m    272\u001B[0m \u001B[38;5;28;01mdef\u001B[39;00m \u001B[38;5;21mcheck\u001B[39m(func, compiler_state):\n\u001B[0;32m--> 273\u001B[0m     mangled \u001B[38;5;241m=\u001B[39m \u001B[43mfunc\u001B[49m\u001B[43m(\u001B[49m\u001B[43mcompiler_state\u001B[49m\u001B[43m)\u001B[49m\n\u001B[1;32m    274\u001B[0m     \u001B[38;5;28;01mif\u001B[39;00m mangled \u001B[38;5;129;01mnot\u001B[39;00m \u001B[38;5;129;01min\u001B[39;00m (\u001B[38;5;28;01mTrue\u001B[39;00m, \u001B[38;5;28;01mFalse\u001B[39;00m):\n\u001B[1;32m    275\u001B[0m         msg \u001B[38;5;241m=\u001B[39m (\u001B[38;5;124m\"\u001B[39m\u001B[38;5;124mCompilerPass implementations should return True/False. \u001B[39m\u001B[38;5;124m\"\u001B[39m\n\u001B[1;32m    276\u001B[0m                \u001B[38;5;124m\"\u001B[39m\u001B[38;5;124mCompilerPass with name \u001B[39m\u001B[38;5;124m'\u001B[39m\u001B[38;5;132;01m%s\u001B[39;00m\u001B[38;5;124m'\u001B[39m\u001B[38;5;124m did not.\u001B[39m\u001B[38;5;124m\"\u001B[39m)\n",
      "File \u001B[0;32m~/.pyenv/versions/3.9.5/lib/python3.8/site-packages/numba/core/typed_passes.py:105\u001B[0m, in \u001B[0;36mBaseTypeInference.run_pass\u001B[0;34m(self, state)\u001B[0m\n\u001B[1;32m     99\u001B[0m \u001B[38;5;124;03m\"\"\"\u001B[39;00m\n\u001B[1;32m    100\u001B[0m \u001B[38;5;124;03mType inference and legalization\u001B[39;00m\n\u001B[1;32m    101\u001B[0m \u001B[38;5;124;03m\"\"\"\u001B[39;00m\n\u001B[1;32m    102\u001B[0m \u001B[38;5;28;01mwith\u001B[39;00m fallback_context(state, \u001B[38;5;124m'\u001B[39m\u001B[38;5;124mFunction \u001B[39m\u001B[38;5;124m\"\u001B[39m\u001B[38;5;132;01m%s\u001B[39;00m\u001B[38;5;124m\"\u001B[39m\u001B[38;5;124m failed type inference\u001B[39m\u001B[38;5;124m'\u001B[39m\n\u001B[1;32m    103\u001B[0m                       \u001B[38;5;241m%\u001B[39m (state\u001B[38;5;241m.\u001B[39mfunc_id\u001B[38;5;241m.\u001B[39mfunc_name,)):\n\u001B[1;32m    104\u001B[0m     \u001B[38;5;66;03m# Type inference\u001B[39;00m\n\u001B[0;32m--> 105\u001B[0m     typemap, return_type, calltypes, errs \u001B[38;5;241m=\u001B[39m \u001B[43mtype_inference_stage\u001B[49m\u001B[43m(\u001B[49m\n\u001B[1;32m    106\u001B[0m \u001B[43m        \u001B[49m\u001B[43mstate\u001B[49m\u001B[38;5;241;43m.\u001B[39;49m\u001B[43mtypingctx\u001B[49m\u001B[43m,\u001B[49m\n\u001B[1;32m    107\u001B[0m \u001B[43m        \u001B[49m\u001B[43mstate\u001B[49m\u001B[38;5;241;43m.\u001B[39;49m\u001B[43mtargetctx\u001B[49m\u001B[43m,\u001B[49m\n\u001B[1;32m    108\u001B[0m \u001B[43m        \u001B[49m\u001B[43mstate\u001B[49m\u001B[38;5;241;43m.\u001B[39;49m\u001B[43mfunc_ir\u001B[49m\u001B[43m,\u001B[49m\n\u001B[1;32m    109\u001B[0m \u001B[43m        \u001B[49m\u001B[43mstate\u001B[49m\u001B[38;5;241;43m.\u001B[39;49m\u001B[43margs\u001B[49m\u001B[43m,\u001B[49m\n\u001B[1;32m    110\u001B[0m \u001B[43m        \u001B[49m\u001B[43mstate\u001B[49m\u001B[38;5;241;43m.\u001B[39;49m\u001B[43mreturn_type\u001B[49m\u001B[43m,\u001B[49m\n\u001B[1;32m    111\u001B[0m \u001B[43m        \u001B[49m\u001B[43mstate\u001B[49m\u001B[38;5;241;43m.\u001B[39;49m\u001B[43mlocals\u001B[49m\u001B[43m,\u001B[49m\n\u001B[1;32m    112\u001B[0m \u001B[43m        \u001B[49m\u001B[43mraise_errors\u001B[49m\u001B[38;5;241;43m=\u001B[39;49m\u001B[38;5;28;43mself\u001B[39;49m\u001B[38;5;241;43m.\u001B[39;49m\u001B[43m_raise_errors\u001B[49m\u001B[43m)\u001B[49m\n\u001B[1;32m    113\u001B[0m     state\u001B[38;5;241m.\u001B[39mtypemap \u001B[38;5;241m=\u001B[39m typemap\n\u001B[1;32m    114\u001B[0m     \u001B[38;5;66;03m# save errors in case of partial typing\u001B[39;00m\n",
      "File \u001B[0;32m~/.pyenv/versions/3.9.5/lib/python3.8/site-packages/numba/core/typed_passes.py:83\u001B[0m, in \u001B[0;36mtype_inference_stage\u001B[0;34m(typingctx, targetctx, interp, args, return_type, locals, raise_errors)\u001B[0m\n\u001B[1;32m     81\u001B[0m     infer\u001B[38;5;241m.\u001B[39mbuild_constraint()\n\u001B[1;32m     82\u001B[0m     \u001B[38;5;66;03m# return errors in case of partial typing\u001B[39;00m\n\u001B[0;32m---> 83\u001B[0m     errs \u001B[38;5;241m=\u001B[39m \u001B[43minfer\u001B[49m\u001B[38;5;241;43m.\u001B[39;49m\u001B[43mpropagate\u001B[49m\u001B[43m(\u001B[49m\u001B[43mraise_errors\u001B[49m\u001B[38;5;241;43m=\u001B[39;49m\u001B[43mraise_errors\u001B[49m\u001B[43m)\u001B[49m\n\u001B[1;32m     84\u001B[0m     typemap, restype, calltypes \u001B[38;5;241m=\u001B[39m infer\u001B[38;5;241m.\u001B[39munify(raise_errors\u001B[38;5;241m=\u001B[39mraise_errors)\n\u001B[1;32m     86\u001B[0m \u001B[38;5;66;03m# Output all Numba warnings\u001B[39;00m\n",
      "File \u001B[0;32m~/.pyenv/versions/3.9.5/lib/python3.8/site-packages/numba/core/typeinfer.py:1086\u001B[0m, in \u001B[0;36mTypeInferer.propagate\u001B[0;34m(self, raise_errors)\u001B[0m\n\u001B[1;32m   1083\u001B[0m force_lit_args \u001B[38;5;241m=\u001B[39m [e \u001B[38;5;28;01mfor\u001B[39;00m e \u001B[38;5;129;01min\u001B[39;00m errors\n\u001B[1;32m   1084\u001B[0m                   \u001B[38;5;28;01mif\u001B[39;00m \u001B[38;5;28misinstance\u001B[39m(e, ForceLiteralArg)]\n\u001B[1;32m   1085\u001B[0m \u001B[38;5;28;01mif\u001B[39;00m \u001B[38;5;129;01mnot\u001B[39;00m force_lit_args:\n\u001B[0;32m-> 1086\u001B[0m     \u001B[38;5;28;01mraise\u001B[39;00m errors[\u001B[38;5;241m0\u001B[39m]\n\u001B[1;32m   1087\u001B[0m \u001B[38;5;28;01melse\u001B[39;00m:\n\u001B[1;32m   1088\u001B[0m     \u001B[38;5;28;01mraise\u001B[39;00m reduce(operator\u001B[38;5;241m.\u001B[39mor_, force_lit_args)\n",
      "\u001B[0;31mTypingError\u001B[0m: Failed in nopython mode pipeline (step: nopython frontend)\nUnknown attribute 'compute' of type Module(<module 'dask' from '/home/tosia/.pyenv/versions/3.9.5/lib/python3.8/site-packages/dask/__init__.py'>)\n\nFile \"../../../../../tmp/ipykernel_9418/2537065620.py\", line 27:\n<source missing, REPL/exec in use?>\n\nDuring: typing of get attribute at /tmp/ipykernel_9418/2537065620.py (27)\n\nFile \"../../../../../tmp/ipykernel_9418/2537065620.py\", line 27:\n<source missing, REPL/exec in use?>\n"
     ]
    }
   ],
   "source": [
    "import dask\n",
    "import numba as nb\n",
    "\n",
    "@nb.njit(nb.float64[:,:](nb.float64[:,:], nb.float64[:, :]), parallel=True, nogil=True)\n",
    "def ls_grad(X, Y):\n",
    "    _, s, _ = np.linalg.svd(2 * X.T.dot(X))\n",
    "    step_size = 1 / s - 1e-8\n",
    "\n",
    "    ## define some parameters\n",
    "    max_steps = 100\n",
    "    tol = 1e-8\n",
    "    beta_hat = np.zeros(100) # initial guess\n",
    "    m, n = X.shape\n",
    "    _, k = Y.shape\n",
    "    Beta = np.zeros((n, k))\n",
    "    for i in nb.prange(n):\n",
    "        y = Y[:, i]\n",
    "        for k in range(max_steps):\n",
    "            Xbeta = X.dot(beta_hat)\n",
    "            func = ((y - Xbeta)**2).sum()\n",
    "            gradient = 2 * X.T.dot(Xbeta - y)\n",
    "\n",
    "            ## Update\n",
    "            obeta = beta_hat\n",
    "            beta_hat = beta_hat - step_size * gradient\n",
    "            new_func = ((y - X.dot(beta_hat))**2).sum()\n",
    "            beta_hat, func, new_func = dask.compute(beta_hat, func, new_func)  # <--- Dask code\n",
    "\n",
    "            ## Check for convergence\n",
    "            change = np.absolute(beta_hat - obeta).max()\n",
    "\n",
    "            if change < tol:\n",
    "                break\n",
    "        Beta[i,:] = beta_hat\n",
    "    return Beta\n"
   ],
   "metadata": {
    "collapsed": false
   }
  },
  {
   "cell_type": "code",
   "execution_count": 4,
   "outputs": [],
   "source": [
    "import dask\n",
    "def grad_solve_dask(X, y):\n",
    "    _, s, _ = np.linalg.svd(2 * X.T.dot(X))\n",
    "    step_size = 1 / s - 1e-8\n",
    "\n",
    "    ## define some parameters\n",
    "    max_steps = 100\n",
    "    tol = 1e-8\n",
    "    beta_hat = np.zeros_like(y)# initial guess\n",
    "\n",
    "    for k in range(max_steps):\n",
    "        Xbeta = X.dot(beta_hat)\n",
    "        func = ((y - Xbeta)**2).sum()\n",
    "        gradient = 2 * X.T.dot(Xbeta - y)\n",
    "\n",
    "        ## Update\n",
    "        obeta = beta_hat\n",
    "        beta_hat = beta_hat - step_size * gradient\n",
    "        new_func = ((y - X.dot(beta_hat))**2).sum()\n",
    "        beta_hat, func, new_func = dask.compute(beta_hat, func, new_func)  # <--- Dask code\n",
    "\n",
    "        ## Check for convergence\n",
    "        change = np.absolute(beta_hat - obeta).max()\n",
    "\n",
    "        if change < tol:\n",
    "            break\n",
    "    return beta_hat"
   ],
   "metadata": {
    "collapsed": false
   }
  },
  {
   "cell_type": "code",
   "execution_count": 10,
   "outputs": [],
   "source": [
    "#@nb.njit(nb.float64[:](nb.float64[:,:]), nogil=True)\n",
    "def step_size(X):\n",
    "    A = X.T.dot(X)\n",
    "    return A[3]\n",
    "import scipy"
   ],
   "metadata": {
    "collapsed": false
   }
  },
  {
   "cell_type": "code",
   "execution_count": 24,
   "outputs": [
    {
     "name": "stdout",
     "output_type": "stream",
     "text": [
      "20.4 ms ± 6.32 ms per loop (mean ± std. dev. of 7 runs, 10 loops each)\n"
     ]
    }
   ],
   "source": [
    "%%timeit -n 10\n",
    "step_size(M)"
   ],
   "metadata": {
    "collapsed": false
   }
  },
  {
   "cell_type": "code",
   "execution_count": 4,
   "outputs": [
    {
     "name": "stdout",
     "output_type": "stream",
     "text": [
      "11.8 ms ± 6.44 ms per loop (mean ± std. dev. of 7 runs, 10 loops each)\n"
     ]
    }
   ],
   "source": [
    "%%timeit -n 10\n",
    "step_size(M)"
   ],
   "metadata": {
    "collapsed": false
   }
  },
  {
   "cell_type": "code",
   "execution_count": 7,
   "outputs": [
    {
     "name": "stdout",
     "output_type": "stream",
     "text": [
      "279 ms ± 70.5 ms per loop (mean ± std. dev. of 7 runs, 10 loops each)\n"
     ]
    }
   ],
   "source": [
    "%%timeit -n 10\n",
    "_, s, _ = fbpca.svd(2 * M.T.dot(M))"
   ],
   "metadata": {
    "collapsed": false
   }
  },
  {
   "cell_type": "code",
   "execution_count": 9,
   "outputs": [
    {
     "name": "stdout",
     "output_type": "stream",
     "text": [
      "342 ms ± 135 ms per loop (mean ± std. dev. of 7 runs, 10 loops each)\n"
     ]
    }
   ],
   "source": [
    "%%timeit -n 10\n",
    "_, s, _ = np.linalg.svd(2 * M.T.dot(M))"
   ],
   "metadata": {
    "collapsed": false
   }
  },
  {
   "cell_type": "code",
   "execution_count": 11,
   "outputs": [
    {
     "name": "stdout",
     "output_type": "stream",
     "text": [
      "288 ms ± 35.1 ms per loop (mean ± std. dev. of 7 runs, 10 loops each)\n"
     ]
    }
   ],
   "source": [
    "%%timeit -n 10\n",
    "_, s, _ = scipy.linalg.svd(2 * M.T.dot(M))"
   ],
   "metadata": {
    "collapsed": false
   }
  },
  {
   "cell_type": "code",
   "execution_count": 23,
   "outputs": [
    {
     "data": {
      "text/plain": "array([ 3.53258203e+00, -5.36866908e-01,  2.40689925e+00,  1.30224555e+00,\n       -3.17176930e-01,  2.09848103e+00, -7.40943348e-01, -1.72079575e+00,\n       -2.67649968e+00, -2.10435349e+00, -2.66131205e+00, -6.78008866e-01,\n       -1.00037339e+00, -2.12871844e+00,  2.02384459e+00,  2.78940788e+00,\n        1.06624514e+00,  1.81258258e+00, -7.66224395e-01, -1.59604727e+00,\n        3.36772852e-01, -2.63348098e+00,  1.89061009e+00,  2.76034091e+00,\n       -2.60155693e+00, -1.69257110e+00, -2.30675230e+00, -1.44295694e+00,\n        3.16728159e+00,  4.62913833e+00,  3.02218965e+00, -2.02207060e+00,\n        6.22178665e+00,  2.60753262e+00, -2.07652029e+00,  3.83345298e+00,\n       -1.61079765e+00, -1.14142419e+00, -1.71507140e+00,  4.04740148e+00,\n        4.07226417e+00, -3.26133123e-01, -2.57254583e-01, -4.16734812e+00,\n        1.75494788e-01, -2.71876718e+00, -8.63673658e-01,  1.34165444e+00,\n       -1.38038977e+00,  1.64757847e+00,  2.67253272e-01,  4.44543901e-01,\n        9.37086090e-01, -1.59016523e+00,  1.78382732e+00, -2.38167457e+00,\n        2.38159760e+00, -4.26674846e+00,  3.87809401e+00, -3.73611412e+00,\n        1.65191171e+00,  1.57229501e+00, -1.04397057e+00, -1.32307548e+00,\n        8.81165822e-02, -1.60290907e+00,  4.72994933e-01,  1.59670588e+00,\n        3.57004471e+00, -2.33946221e+00,  2.12919705e+00,  3.54704746e+00,\n        1.68197700e+00,  1.39607949e+00,  1.81644308e+00,  2.76931318e+00,\n       -2.02688032e+00,  1.58266978e+00, -1.32438309e+00, -2.24882857e+00,\n       -5.15916340e-01, -1.31234511e+00, -4.22169487e+00, -2.90913878e+00,\n       -1.86747534e+00,  5.98091360e-01,  1.03677231e-01, -1.21736358e+00,\n        1.01598228e+00,  2.73002305e+00, -3.46122870e-01,  1.77869586e+00,\n       -2.06292878e+00, -1.20518961e+00,  2.43996707e+00,  3.54157613e+00,\n       -4.38354420e+00, -9.05429212e-01, -1.83462447e+00, -7.92499891e-02,\n       -1.20755040e+00,  2.39937415e+00, -1.68109340e+00, -7.69465787e-01,\n       -2.14785861e+00,  8.44762409e-01,  4.24358890e-01,  4.35468356e+00,\n       -1.11478002e+00,  2.08719017e+00,  8.24301438e-01,  1.43606641e+00,\n       -4.48377776e-01, -5.84119765e-01,  1.26801943e+00, -1.07664507e+00,\n        5.56379247e+00,  3.49083645e+00,  1.61053171e+00, -3.68476267e+00,\n       -2.32181730e+00,  5.16049998e-01, -8.09131374e-01,  2.38403316e+00,\n       -6.57154540e-02,  2.54556642e+00, -3.63322388e+00, -2.03310882e+00,\n       -1.19365600e+00, -1.80933634e-01,  1.73170264e-01, -2.37609545e+00,\n       -1.07594379e+00,  4.72623239e+00,  1.36688030e+00,  2.63525090e+00,\n       -4.59064340e+00, -1.47910135e+00, -1.00441234e+00,  9.99163640e-03,\n       -1.48964066e+00,  1.72689827e+00, -9.84925985e-01, -3.29171891e-02,\n        1.09269044e+00, -3.90508560e+00,  1.15182388e+00,  1.67823864e+00,\n        8.48369127e-01, -6.75674247e-01, -3.39113543e+00, -1.30998111e+00,\n       -7.04283001e-01,  4.57954413e-02, -1.41654245e-01, -3.54897067e+00,\n       -3.60499414e-01,  7.61007421e-01,  2.76937941e+00, -1.18873876e+00,\n        2.66901582e+00,  1.18907333e+00, -8.71428734e-01, -1.24280602e-01,\n        1.59640383e+00,  2.94014588e+00, -2.47883276e+00,  1.37313489e+00,\n        2.92624061e+00, -6.97248988e-01, -2.70159723e+00,  8.85779829e-01,\n       -7.68975823e-01,  3.15139328e-01, -3.80364123e+00, -3.61986286e+00,\n        5.19228636e-01,  1.03013052e+00,  2.40928306e+00,  9.21079850e-01,\n        5.10270424e-02,  1.10750267e+00, -1.15745587e+00, -2.08833371e-01,\n       -2.60885573e-01, -2.85708151e-01, -3.16189784e+00,  3.36963204e-01,\n        1.20042566e+00,  1.98956988e+00,  2.53016249e+00, -1.15561842e+00,\n       -5.52249352e-01, -1.51344398e+00,  1.02491229e+00,  5.15968423e-01,\n        1.51497369e+00, -6.73966997e-01, -2.90377610e-01,  2.13386909e+00,\n       -3.12314641e-01, -1.30537596e+00, -9.90960047e-01,  2.23104415e+00,\n        1.60319107e-01, -6.93328178e-01,  8.85722283e-01,  6.94133874e-01,\n        1.64960255e+00, -6.88984538e-01, -2.03810218e+00, -1.12315860e+00,\n       -1.56815853e+00, -3.76560176e-01, -2.64374770e+00, -7.85999696e-01,\n        1.16267618e-01, -8.83360209e-01,  3.16981729e-02,  3.09544785e+00,\n        3.60599107e+00,  5.34490947e+00,  2.87069904e+00,  1.43937300e+00,\n        2.56317770e+00,  1.24933887e+00, -4.37571391e+00, -4.82868542e+00,\n        1.54434485e+00,  6.31244709e-01,  3.31126299e+00, -3.20397117e-01,\n       -1.01197465e+00,  5.38388037e+00,  3.14452238e+00, -1.73422720e-01,\n       -1.98680960e+00, -3.39860474e+00, -1.43070517e+00,  1.07327808e+00,\n        5.58115518e-01, -3.67825063e+00, -7.53234687e-01, -4.12299864e+00,\n       -1.71769170e+00,  1.27608793e+00,  2.01688953e+00,  8.52017132e-01,\n       -3.39056553e+00, -1.65018935e-01, -4.15971043e-01, -9.27387540e-01,\n       -4.01316394e+00,  7.55926007e-01, -2.56885637e+00,  1.92077826e-01,\n        1.89016184e+00, -1.09724120e+00,  1.75739064e+00,  2.35280884e-01,\n       -2.94095677e+00, -4.24006014e-01,  2.08986471e+00,  3.48615061e+00,\n       -2.79957620e+00, -1.61471464e+00, -1.69066729e+00,  1.75171585e-01,\n       -1.22466819e+00, -5.62964905e-01, -8.17355830e-01,  3.64251683e-01,\n       -5.85200416e-01, -3.39978926e+00,  1.01245322e+00,  3.35514709e-01,\n       -4.39749687e-01,  2.25347387e+00, -1.76256418e+00,  2.84037120e+00,\n        5.42375642e-01,  1.51012628e+00, -2.49565039e-01, -7.67297002e+00,\n        9.07578616e-01, -3.77761500e+00, -1.42556982e+00,  3.20321206e-01,\n        3.78417489e+00,  1.38278128e+00,  8.54568457e-01,  1.71313225e+00,\n        7.78777388e-01, -7.75591770e-02,  1.33171310e+00, -9.12042961e-01,\n       -8.64934017e-01, -2.76028853e+00,  5.87341522e-01,  3.10431149e+00,\n        2.87433844e-01, -1.50069569e+00, -3.09646126e+00,  2.58009537e+00,\n       -9.06820652e-01, -7.81642249e-01,  6.30849191e-01,  1.46047799e+00,\n        7.51167047e-01,  2.83753092e+00, -2.60387020e+00, -1.57906484e-01,\n       -1.37000757e+00, -7.26087279e-01,  3.17945348e+00,  1.35263533e+00,\n       -2.70678530e+00,  1.45091608e+00,  2.53717739e-01, -1.85494484e+00,\n        8.52281000e-01, -2.85829539e+00,  4.96423394e+00,  3.02273323e+00,\n       -2.09835903e+00, -4.55622348e-01,  1.36082096e-01,  8.45255134e-01,\n       -2.34605378e-01, -2.58370755e+00, -4.01931217e+00, -6.98045653e-01,\n       -2.80500945e+00, -1.82685083e+00,  1.32765924e+00, -1.03647073e+00,\n        2.28675556e+00,  3.65565534e-01, -1.14321037e+00, -5.78556657e-01,\n       -1.87963033e+00,  4.51393161e-01, -2.35867499e+00, -3.81385643e+00,\n       -1.14922245e+00, -2.02490467e+00, -1.38148403e+00,  2.55473647e+00,\n        4.03710489e-01,  2.04468232e+00,  2.13921891e+00,  7.08303307e-01,\n        3.27672500e-02,  1.74579093e-01, -4.20349387e+00, -1.15505194e+00,\n       -5.29919952e-01, -1.25723700e+00, -1.31207931e+00, -3.92587883e+00,\n        3.52567193e+00,  3.52976752e+00, -7.67874549e-01, -2.95071703e+00,\n       -3.89330305e+00, -4.68501213e-01,  1.17414550e+00, -9.18636077e-01,\n        1.45736711e+00,  5.38765383e-02, -1.38455053e+00, -3.77245589e+00,\n        2.41227483e+00, -3.18591595e-01,  7.01883958e-01, -8.60094155e-02,\n       -6.26122185e-01,  1.27429184e-01,  1.63128234e+00, -6.64847877e-01,\n       -1.57286729e+00, -3.94370732e+00, -2.46580252e+00,  1.61510891e+00,\n       -3.10046527e+00, -2.82232584e+00,  3.92509297e+00, -1.73285449e+00,\n       -1.31407959e+00,  1.42559956e+00,  2.05434882e-02,  2.57927022e+00,\n        4.75522254e-01, -1.64261056e+00,  2.24310776e+00,  2.90570304e+00,\n       -9.85302320e-01, -2.35317696e+00,  8.88479502e-01,  7.13634471e-01,\n       -1.51771103e+00, -2.65562155e-01, -1.11953152e+00, -2.18759187e+00,\n       -2.26039116e+00,  1.25308929e+00,  1.01523017e+00,  1.29470886e+00,\n        1.54705130e-01,  3.88854300e-01,  3.22918129e-01, -1.58889003e+00,\n       -4.70387750e+00, -3.06596954e+00, -4.44598790e+00, -4.21151062e-01,\n       -1.76892580e+00,  2.43292406e+00, -7.07513539e-01, -4.21266681e+00,\n        5.33104120e-01, -1.68067733e+00,  1.76719196e+00, -2.54442502e+00,\n       -3.21273897e-01,  1.18210755e+00, -1.26925783e+00,  2.87542116e-02,\n       -4.38597127e+00,  9.88816287e-01, -2.53028412e+00, -3.56154788e+00,\n       -3.02039487e+00, -1.95850077e-02, -2.12016467e+00,  3.42619340e+00,\n        4.29615221e+00,  6.80080722e-01,  2.14903128e+00, -1.83836386e+00,\n       -7.02872497e-01,  1.29520683e+00, -4.45931094e+00, -2.83425582e+00,\n       -1.55781348e+00,  2.97075149e+00, -1.31389822e+00,  2.22228956e+00,\n        1.84346834e-01, -1.13063876e+00,  7.81480266e-01,  1.13624530e+00,\n        4.53446283e-01,  2.63659194e+00,  1.73339235e+00, -2.74838718e+00,\n        1.81547230e+00,  6.43125819e-01,  2.18251994e+00, -1.43870903e+00,\n        1.95778129e+00, -4.92780741e-01,  8.91552267e-01,  9.16882389e-02,\n       -4.60115090e+00, -9.16654864e-01,  4.16764810e-02,  3.75826882e-01,\n        1.45756621e-01, -4.23676915e-01,  7.46957260e-01, -6.21580475e-01,\n       -3.25660414e+00, -1.43936128e+00, -2.86798058e+00,  5.99677508e-01,\n        5.61671668e+00,  2.47387355e-01, -9.84920076e-01,  7.19670607e-01,\n        7.02200850e-01, -1.66872715e+00,  1.48023899e+00,  3.89912242e+00,\n        6.98570622e-01,  9.70667179e-01, -4.85848359e-01, -4.73861369e-01,\n       -2.76032991e-01, -5.72589876e-01,  1.29621604e-01,  1.76362603e+00,\n        4.65022472e+00,  1.62839094e+00,  3.59369243e+00, -3.86189343e+00,\n       -4.06196937e-01,  2.17936563e-01,  5.06588608e-01, -1.43665912e+00,\n        1.65814892e+00, -1.88388639e-01, -1.22585415e+00, -3.39850502e+00,\n        3.63051053e+00, -4.72822770e-01,  3.75039282e-01, -2.79027090e+00,\n       -1.67222308e+00,  1.15461703e+00, -1.88990310e+00,  5.97279727e-01,\n        1.40394721e+00,  5.15026560e-01,  6.60249284e-01, -6.76819880e-01,\n        2.74050383e+00,  3.65153426e+00,  2.85955576e+00,  1.22384793e+00,\n       -2.25050819e+00,  1.82344798e+00,  3.12900086e+00, -1.09153055e+00,\n        2.40142491e-01, -4.63975539e-01,  4.59926659e+00,  2.21582932e-01,\n       -2.56201497e+00, -1.11734478e+00,  9.70210689e-01,  9.65470069e-01,\n       -9.96034723e-01, -2.40348310e+00,  4.19377183e+00,  8.62262524e-01,\n        2.03217870e+00,  9.17656610e-01, -3.08802879e+00,  2.79265924e+00,\n       -1.01759802e+00,  3.61762712e+00, -7.56069417e-01,  1.15555074e+00,\n        1.59722961e-01,  1.63868224e+00, -1.99660916e+00, -2.20213213e+00,\n       -2.28415360e-01,  3.52850671e+00, -2.40821452e+00, -2.01063524e+00,\n       -1.92339694e-01,  1.95499901e-01,  1.57305285e-01, -2.30116523e+00,\n        1.10226649e+00,  5.11615037e-01,  2.40718276e+00,  3.04909081e-01,\n       -2.58117718e+00,  1.37776240e+00,  7.89499414e-01,  5.23733648e+00,\n        2.78997026e+00, -2.16737124e+00,  6.92640122e-02,  2.89356962e+00,\n       -2.02409676e+00, -6.97581862e-01, -1.95043635e+00,  3.69021001e-01,\n       -2.58462360e+00, -3.55457168e+00, -9.20579881e-01,  8.44046164e-01,\n        1.42883649e+00,  2.53388208e+00,  2.07653365e+00,  1.81463534e+00,\n       -3.87600482e-01, -1.52224072e+00,  2.73775797e+00,  1.06649800e+00,\n        2.33866199e+00, -1.59827050e+00,  1.97324030e+00,  1.54279001e-01,\n        4.36557642e-01,  6.03144985e+00,  6.07870993e-01,  2.44850123e+00,\n       -1.15902595e+00, -2.32201024e+00,  6.04250224e-01, -7.21572968e-01,\n        2.12652927e+00, -2.27274184e+00, -3.74853694e+00,  1.78279485e+00,\n       -5.74390709e-01,  2.19802186e+00, -1.14199849e+00,  3.15116231e-01,\n       -3.29779527e+00,  6.31074258e-01, -6.37897607e-02,  1.85289231e+00,\n       -2.66534648e+00, -2.66208658e+00, -2.33487687e-01,  2.37702948e+00,\n        7.90967793e-01, -4.05160909e-01,  1.85746650e+00, -1.93155126e+00,\n        2.05643456e+00,  3.39489983e+00,  4.16921745e-01, -1.57483465e+00,\n        8.22076635e-03, -3.11268969e+00, -8.34311767e-01,  9.02455993e-01,\n        2.59270927e+00, -1.68144071e+00,  1.69806382e+00,  3.04271030e+00,\n       -2.66887145e+00, -3.49105585e+00, -2.10561413e+00, -1.53273683e+00,\n        9.77447655e-01, -1.03332101e+00,  1.15330841e-01,  6.68394039e-01,\n       -1.01587297e+00, -2.10814277e+00,  3.80586190e-01,  3.25097286e+00,\n        5.24958606e-01, -1.51020485e+00,  9.21700346e-01, -2.74026838e+00,\n        1.63614750e-02,  2.15415129e+00,  1.28202368e+00,  3.58584959e+00,\n        5.56320136e-01, -1.45022271e+00, -1.06709131e+00, -4.03561957e+00,\n       -6.97029899e-01, -9.89537420e-01,  1.85352153e+00, -2.89940800e+00,\n       -3.69010186e+00,  3.09526395e+00,  3.43175143e+00,  4.54520150e+00,\n        1.36637577e+00,  9.79435414e-01,  1.22593907e+00, -1.46493425e+00,\n       -2.72667254e+00,  2.64598011e+00,  6.24329567e-01, -1.06097571e+00,\n       -6.37347930e-01,  9.58618787e-02, -6.65850096e-01,  1.20464886e+00,\n        7.06971966e-01,  4.90161630e+00,  5.10402989e-01,  5.07640281e-01,\n       -1.82781942e+00,  2.15413845e-01, -1.99193404e+00,  7.13663395e-01,\n        3.18739896e+00,  1.26245866e+00,  9.32958862e-01, -2.85212210e+00,\n       -2.55303295e-03, -3.18715423e+00, -9.09327103e-01,  3.05210543e+00,\n        4.45206989e-01, -2.29925749e+00,  2.90994063e+00, -1.94153560e+00,\n       -3.21153750e+00, -2.61883729e+00,  7.28216894e-02, -7.44661887e-01,\n        1.16250984e+00,  5.17778032e+00,  5.72037417e-01, -2.97889952e+00,\n        1.76650155e+00,  1.21565429e-01, -5.20562214e-02,  1.39937065e+00,\n       -4.79824369e-01, -1.72421441e+00, -5.72552222e-01, -1.43587801e+00,\n        4.16812913e-01,  1.71648047e+00,  5.19897938e-01, -1.03055261e+00,\n        4.14545686e-01,  1.33367613e+00,  4.70500568e+00, -8.61748140e-01,\n        1.23916659e-01,  1.83529102e+00,  5.10389302e-01, -1.08113406e+00,\n        2.79526522e+00,  6.78261646e-01,  1.44634100e+00,  1.34860840e+00,\n        9.28480003e-01,  1.00027499e+00, -2.58691854e+00,  1.37973049e+00,\n        2.62378221e+00, -4.66312456e+00, -1.28671728e+00, -1.03001596e+00,\n        4.44726046e-01,  1.03638262e+00,  1.63005225e+00,  2.16568960e+00,\n        1.63574687e+00,  1.64399266e+00, -2.59472359e+00, -1.04094154e+00,\n       -1.25513127e-01, -2.06069737e+00,  1.67036994e+00,  5.39136811e-01,\n        9.34946432e-01,  1.01493848e+00,  7.08375706e-01,  1.38502626e+00,\n        4.55833830e-02, -2.89439232e+00,  1.86552674e+00, -1.58784603e+00,\n       -1.39571491e+00, -8.93492095e-01, -1.49556424e-01,  2.00958939e+00,\n       -2.48199968e+00,  1.37195913e-01, -1.08507752e+00,  7.49168578e-01,\n       -2.04538867e-01,  2.04657772e+00,  1.72578273e+00,  8.59845018e-01,\n       -1.51904574e+00,  1.92780381e+00, -2.59520379e+00,  2.93639281e+00,\n       -8.46047074e-02,  1.25928522e+00, -5.93897666e-02, -2.01646362e-01,\n       -3.40974923e+00, -1.07052629e-01, -6.21050742e+00,  1.96010303e+00,\n        5.68151692e-01, -3.93706336e+00, -3.22995386e+00,  2.25911337e+00,\n        2.55626116e+00,  9.13039604e-01, -1.77535013e+00, -1.88400594e+00,\n       -1.12530116e+00, -1.66932854e+00,  2.46212053e+00, -7.94653479e-01,\n       -3.98934861e-01,  1.12913743e+00,  8.83575026e-01, -3.53891971e-01,\n       -3.48331482e+00, -2.14720433e+00,  2.20145502e+00, -3.86368375e+00,\n        1.54365008e+00, -8.07094635e-01, -9.85192326e-01,  1.67830864e+00,\n        3.70511546e-01,  1.84260548e+00,  3.65957023e-02,  2.21593618e+00,\n       -3.21604192e-01, -1.06563222e+00,  3.48512243e+00,  2.87486372e+00,\n        1.73644586e+00,  6.98044274e-01, -8.75319205e-02,  1.24829493e+00,\n        2.62032570e+00, -1.69727833e+00,  4.39713109e+00,  1.22600186e+00,\n       -1.52622352e+00,  1.87438554e+00,  2.39289162e+00, -2.79610432e+00,\n        6.38885180e-03, -1.20789483e+00,  2.31032055e+00,  1.31998251e+00,\n        2.08998609e+00, -3.40950574e+00, -6.96813572e-01,  6.16926349e+00,\n       -3.21091068e+00, -4.36111765e-01,  5.18285790e-01,  1.70459842e+00,\n        1.54247592e+00, -1.79300408e+00,  6.97684601e-01, -7.73671509e-01,\n       -8.41794836e-01, -2.29771737e+00,  8.59147442e-01,  3.13353108e+00,\n        4.14322694e+00, -1.84773583e-01,  8.49314532e-01,  1.47378216e+00,\n        6.99899782e-01, -8.82403699e-01,  1.70667273e+00,  1.11472837e-01,\n       -1.73523728e+00,  8.58132227e-01, -6.43089786e-02, -3.95159709e+00,\n       -1.33302028e+00,  2.06579939e+00, -2.19626921e-01, -1.18666588e+00,\n       -1.06106487e+00, -1.49085358e+00,  8.67305108e-01,  2.97232751e+00,\n       -2.89814209e+00, -1.07069880e+00,  2.06266703e+00,  2.34423009e-01,\n       -1.18779700e-01,  3.56890868e+00,  8.03867527e-01, -5.63428847e-01,\n        1.82328492e+00,  6.47540364e-01, -1.69539661e+00,  2.32743573e+00,\n       -6.86647737e-01,  2.83857989e-01, -4.63058965e+00, -5.70581869e-01,\n        1.05187093e+00, -2.35824878e+00,  7.71849738e-01,  8.86190968e-01,\n        1.15194040e-01, -2.26744718e+00, -1.94835333e+00,  2.70440402e+00,\n        1.20452728e+00, -1.08526259e+00,  1.45712134e+00,  6.27063410e-01,\n       -4.74812942e-01, -2.31985536e+00,  1.49575683e+00, -4.68996030e-01,\n        2.38139295e+00, -2.14187758e+00, -2.33241988e+00, -3.05849683e+00,\n        1.21336362e+00, -2.61814755e+00, -1.57072934e+00, -5.13093907e-01,\n       -1.18405838e+00,  4.94144096e+00,  1.04606243e+00, -4.66142924e-01,\n        3.95172751e+00, -2.76741210e+00, -2.00249126e-01,  3.03684283e+00,\n       -9.83936116e-02, -3.67626823e+00, -2.65414284e+00, -2.27582026e+00,\n        2.67197693e-01, -1.25858988e+00,  4.64671349e-01, -5.85722900e-01,\n        3.99966914e+00, -1.52426173e+00,  2.38342427e+00,  1.62879460e+00,\n       -4.00623649e-01,  1.79970645e+00, -1.30217049e+00,  1.58097178e+00,\n       -2.09182445e+00, -2.66248587e-01, -5.66906431e-01,  1.62594636e+00,\n       -7.99649996e-01, -2.04265475e+00, -5.48379560e-01,  1.20469958e+00,\n       -8.00818580e-01, -1.94330659e+00, -4.75756387e+00, -1.46611652e+00,\n       -1.80177828e+00, -2.22370350e+00, -2.90114922e+00, -8.16783317e-01,\n       -3.58837281e+00, -2.94948767e-01, -2.33479122e+00, -2.66267685e+00,\n       -1.45083588e+00, -1.60746533e+00, -2.82754976e+00,  5.30207214e-01,\n        3.73786400e+00,  2.10220701e+00, -8.76427941e-01, -1.11909838e+00,\n       -2.10455283e+00,  4.18667500e-01,  2.21253400e+00, -4.28930718e-01,\n        1.24860368e+00, -5.65829415e-02, -2.02107148e+00, -1.16934814e+00,\n       -2.65682498e-01, -2.03023852e+00,  3.53170458e-01, -3.52216968e+00,\n       -2.78132870e+00, -2.46584777e+00, -3.31468448e+00,  9.39217631e-01,\n       -3.83990704e+00, -3.05709378e+00, -2.14725328e+00,  3.45030156e+00,\n        2.00478393e+00, -1.16237979e+00, -5.67106103e-01,  1.55503906e-01,\n        9.12237815e-01, -1.51438693e+00, -2.38462993e+00, -3.94883000e+00,\n        5.72736199e-02,  1.13222012e+00,  1.20946481e+00, -3.84892277e+00,\n       -4.02957871e+00,  1.20387483e+00,  1.50125198e+00, -2.31933234e+00,\n        4.11216549e-01, -2.54654944e+00,  5.92822382e-01, -2.72445704e+00,\n       -8.07670093e-01, -2.30584399e+00,  2.63084278e+00,  1.00602172e+00,\n       -1.18068398e-01, -1.98056711e+00,  4.11803932e+00, -2.23810080e+00])"
     },
     "execution_count": 23,
     "metadata": {},
     "output_type": "execute_result"
    }
   ],
   "source": [
    "from dask_ml.linear_model import LinearRegression\n",
    "\n",
    "lr = LinearRegression()\n",
    "lr.fit(M, C[:,1])\n",
    "lr.predict(M)"
   ],
   "metadata": {
    "collapsed": false
   }
  },
  {
   "cell_type": "code",
   "execution_count": 17,
   "outputs": [
    {
     "data": {
      "text/plain": "(1000,)"
     },
     "execution_count": 17,
     "metadata": {},
     "output_type": "execute_result"
    }
   ],
   "source": [
    "C[:,0].shape"
   ],
   "metadata": {
    "collapsed": false
   }
  },
  {
   "cell_type": "code",
   "execution_count": 5,
   "outputs": [
    {
     "name": "stderr",
     "output_type": "stream",
     "text": [
      "/tmp/ipykernel_13923/485205517.py:19: RuntimeWarning: overflow encountered in square\n",
      "  new_func = ((y - X.dot(beta_hat))**2).sum()\n",
      "/tmp/ipykernel_13923/485205517.py:13: RuntimeWarning: overflow encountered in square\n",
      "  func = ((y - Xbeta)**2).sum()\n",
      "/tmp/ipykernel_13923/485205517.py:14: RuntimeWarning: overflow encountered in multiply\n",
      "  gradient = 2 * X.T.dot(Xbeta - y)\n",
      "/tmp/ipykernel_13923/485205517.py:18: RuntimeWarning: overflow encountered in multiply\n",
      "  beta_hat = beta_hat - step_size * gradient\n"
     ]
    },
    {
     "data": {
      "text/plain": "array([nan, nan, nan, nan, nan, nan, nan, nan, nan, nan, nan, nan, nan,\n       nan, nan, nan, nan, nan, nan, nan, nan, nan, nan, nan, nan, nan,\n       nan, nan, nan, nan, nan, nan, nan, nan, nan, nan, nan, nan, nan,\n       nan, nan, nan, nan, nan, nan, nan, nan, nan, nan, nan, nan, nan,\n       nan, nan, nan, nan, nan, nan, nan, nan, nan, nan, nan, nan, nan,\n       nan, nan, nan, nan, nan, nan, nan, nan, nan, nan, nan, nan, nan,\n       nan, nan, nan, nan, nan, nan, nan, nan, nan, nan, nan, nan, nan,\n       nan, nan, nan, nan, nan, nan, nan, nan, nan, nan, nan, nan, nan,\n       nan, nan, nan, nan, nan, nan, nan, nan, nan, nan, nan, nan, nan,\n       nan, nan, nan, nan, nan, nan, nan, nan, nan, nan, nan, nan, nan,\n       nan, nan, nan, nan, nan, nan, nan, nan, nan, nan, nan, nan, nan,\n       nan, nan, nan, nan, nan, nan, nan, nan, nan, nan, nan, nan, nan,\n       nan, nan, nan, nan, nan, nan, nan, nan, nan, nan, nan, nan, nan,\n       nan, nan, nan, nan, nan, nan, nan, nan, nan, nan, nan, nan, nan,\n       nan, nan, nan, nan, nan, nan, nan, nan, nan, nan, nan, nan, nan,\n       nan, nan, nan, nan, nan, nan, nan, nan, nan, nan, nan, nan, nan,\n       nan, nan, nan, nan, nan, nan, nan, nan, nan, nan, nan, nan, nan,\n       nan, nan, nan, nan, nan, nan, nan, nan, nan, nan, nan, nan, nan,\n       nan, nan, nan, nan, nan, nan, nan, nan, nan, nan, nan, nan, nan,\n       nan, nan, nan, nan, nan, nan, nan, nan, nan, nan, nan, nan, nan,\n       nan, nan, nan, nan, nan, nan, nan, nan, nan, nan, nan, nan, nan,\n       nan, nan, nan, nan, nan, nan, nan, nan, nan, nan, nan, nan, nan,\n       nan, nan, nan, nan, nan, nan, nan, nan, nan, nan, nan, nan, nan,\n       nan, nan, nan, nan, nan, nan, nan, nan, nan, nan, nan, nan, nan,\n       nan, nan, nan, nan, nan, nan, nan, nan, nan, nan, nan, nan, nan,\n       nan, nan, nan, nan, nan, nan, nan, nan, nan, nan, nan, nan, nan,\n       nan, nan, nan, nan, nan, nan, nan, nan, nan, nan, nan, nan, nan,\n       nan, nan, nan, nan, nan, nan, nan, nan, nan, nan, nan, nan, nan,\n       nan, nan, nan, nan, nan, nan, nan, nan, nan, nan, nan, nan, nan,\n       nan, nan, nan, nan, nan, nan, nan, nan, nan, nan, nan, nan, nan,\n       nan, nan, nan, nan, nan, nan, nan, nan, nan, nan, nan, nan, nan,\n       nan, nan, nan, nan, nan, nan, nan, nan, nan, nan, nan, nan, nan,\n       nan, nan, nan, nan, nan, nan, nan, nan, nan, nan, nan, nan, nan,\n       nan, nan, nan, nan, nan, nan, nan, nan, nan, nan, nan, nan, nan,\n       nan, nan, nan, nan, nan, nan, nan, nan, nan, nan, nan, nan, nan,\n       nan, nan, nan, nan, nan, nan, nan, nan, nan, nan, nan, nan, nan,\n       nan, nan, nan, nan, nan, nan, nan, nan, nan, nan, nan, nan, nan,\n       nan, nan, nan, nan, nan, nan, nan, nan, nan, nan, nan, nan, nan,\n       nan, nan, nan, nan, nan, nan, nan, nan, nan, nan, nan, nan, nan,\n       nan, nan, nan, nan, nan, nan, nan, nan, nan, nan, nan, nan, nan,\n       nan, nan, nan, nan, nan, nan, nan, nan, nan, nan, nan, nan, nan,\n       nan, nan, nan, nan, nan, nan, nan, nan, nan, nan, nan, nan, nan,\n       nan, nan, nan, nan, nan, nan, nan, nan, nan, nan, nan, nan, nan,\n       nan, nan, nan, nan, nan, nan, nan, nan, nan, nan, nan, nan, nan,\n       nan, nan, nan, nan, nan, nan, nan, nan, nan, nan, nan, nan, nan,\n       nan, nan, nan, nan, nan, nan, nan, nan, nan, nan, nan, nan, nan,\n       nan, nan, nan, nan, nan, nan, nan, nan, nan, nan, nan, nan, nan,\n       nan, nan, nan, nan, nan, nan, nan, nan, nan, nan, nan, nan, nan,\n       nan, nan, nan, nan, nan, nan, nan, nan, nan, nan, nan, nan, nan,\n       nan, nan, nan, nan, nan, nan, nan, nan, nan, nan, nan, nan, nan,\n       nan, nan, nan, nan, nan, nan, nan, nan, nan, nan, nan, nan, nan,\n       nan, nan, nan, nan, nan, nan, nan, nan, nan, nan, nan, nan, nan,\n       nan, nan, nan, nan, nan, nan, nan, nan, nan, nan, nan, nan, nan,\n       nan, nan, nan, nan, nan, nan, nan, nan, nan, nan, nan, nan, nan,\n       nan, nan, nan, nan, nan, nan, nan, nan, nan, nan, nan, nan, nan,\n       nan, nan, nan, nan, nan, nan, nan, nan, nan, nan, nan, nan, nan,\n       nan, nan, nan, nan, nan, nan, nan, nan, nan, nan, nan, nan, nan,\n       nan, nan, nan, nan, nan, nan, nan, nan, nan, nan, nan, nan, nan,\n       nan, nan, nan, nan, nan, nan, nan, nan, nan, nan, nan, nan, nan,\n       nan, nan, nan, nan, nan, nan, nan, nan, nan, nan, nan, nan, nan,\n       nan, nan, nan, nan, nan, nan, nan, nan, nan, nan, nan, nan, nan,\n       nan, nan, nan, nan, nan, nan, nan, nan, nan, nan, nan, nan, nan,\n       nan, nan, nan, nan, nan, nan, nan, nan, nan, nan, nan, nan, nan,\n       nan, nan, nan, nan, nan, nan, nan, nan, nan, nan, nan, nan, nan,\n       nan, nan, nan, nan, nan, nan, nan, nan, nan, nan, nan, nan, nan,\n       nan, nan, nan, nan, nan, nan, nan, nan, nan, nan, nan, nan, nan,\n       nan, nan, nan, nan, nan, nan, nan, nan, nan, nan, nan, nan, nan,\n       nan, nan, nan, nan, nan, nan, nan, nan, nan, nan, nan, nan, nan,\n       nan, nan, nan, nan, nan, nan, nan, nan, nan, nan, nan, nan, nan,\n       nan, nan, nan, nan, nan, nan, nan, nan, nan, nan, nan, nan, nan,\n       nan, nan, nan, nan, nan, nan, nan, nan, nan, nan, nan, nan, nan,\n       nan, nan, nan, nan, nan, nan, nan, nan, nan, nan, nan, nan, nan,\n       nan, nan, nan, nan, nan, nan, nan, nan, nan, nan, nan, nan, nan,\n       nan, nan, nan, nan, nan, nan, nan, nan, nan, nan, nan, nan, nan,\n       nan, nan, nan, nan, nan, nan, nan, nan, nan, nan, nan, nan, nan,\n       nan, nan, nan, nan, nan, nan, nan, nan, nan, nan, nan, nan, nan,\n       nan, nan, nan, nan, nan, nan, nan, nan, nan, nan, nan, nan])"
     },
     "execution_count": 5,
     "metadata": {},
     "output_type": "execute_result"
    }
   ],
   "source": [
    "#%timeit -n 10\n",
    "c = C[:,1]\n",
    "grad_solve_dask(M, c)"
   ],
   "metadata": {
    "collapsed": false
   }
  },
  {
   "cell_type": "code",
   "execution_count": 7,
   "outputs": [],
   "source": [
    "import cvxpy as cp\n",
    "\n",
    "def ls_cvxpy(A, B):\n",
    "\n",
    "    # Define and solve the CVXPY problem.\n",
    "    X = cp.Variable((B.shape[1], A.shape[0]))\n",
    "    cost = cp.norm(B @ X - A)\n",
    "    prob = cp.Problem(cp.Minimize(cost))\n",
    "    prob.solve()\n"
   ],
   "metadata": {
    "collapsed": false
   }
  },
  {
   "cell_type": "code",
   "execution_count": 8,
   "outputs": [],
   "source": [
    "import numpy as np\n",
    "np.random.seed(1)\n",
    "A = np.random.randn(1000, 1000)\n",
    "B = np.random.randn(1000, 250)\n"
   ],
   "metadata": {
    "collapsed": false
   }
  },
  {
   "cell_type": "code",
   "execution_count": 7,
   "outputs": [],
   "source": [
    "def grad_solve_dask(X, y):\n",
    "    _, s, _ = np.linalg.svd(2 * X.T.dot(X))\n",
    "    step_size = 1 / s - 1e-8\n",
    "    #step_size = 0.01\n",
    "    ## define some parameters\n",
    "    max_steps = 1000\n",
    "    tol = 1e-8\n",
    "    beta_hat = np.zeros(X.shape[1])\n",
    "    for k in range(max_steps):\n",
    "        if k == 18:\n",
    "            print(\"test 18\")\n",
    "        if k == 17:\n",
    "            print(\"test 17\")\n",
    "        Xbeta = X.dot(beta_hat)\n",
    "        func = ((y - Xbeta)**2).sum()\n",
    "        gradient = 2 * X.T.dot(Xbeta - y)\n",
    "\n",
    "        ## Update\n",
    "\n",
    "        obeta = beta_hat\n",
    "        beta_hat = beta_hat - step_size * gradient\n",
    "        new_func = ((y - X.dot(beta_hat))**2).sum()\n",
    "\n",
    "        if np.any(np.isinf(beta_hat)):\n",
    "            print(f\"k {k}\")\n",
    "            print(f\"beta_hat {beta_hat}\")\n",
    "        beta_hat, func, new_func = dask.compute(beta_hat, func, new_func)  # <--- Dask code\n",
    "        if np.any(np.isinf(beta_hat)):\n",
    "            print(f\"k after {k}\")\n",
    "            print(f\"beta_hat {beta_hat}\")\n",
    "        ## Check for convergence\n",
    "        change = np.absolute(beta_hat - obeta).max()\n",
    "\n",
    "        if change < tol:\n",
    "\n",
    "            break\n",
    "    print(f\"Finished after iteration {k}\")\n",
    "    return beta_hat"
   ],
   "metadata": {
    "collapsed": false
   }
  },
  {
   "cell_type": "code",
   "execution_count": 9,
   "outputs": [],
   "source": [
    "import dask.array as da\n",
    "beta = np.random.random(100)  # random beta coefficients, no intercept\n",
    "X = da.random.normal(0, 1, size=(1000000, 100), chunks=(100000, 100))\n",
    "y = X.dot(beta) + da.random.normal(0, 1, size=1000000, chunks=(100000,))\n",
    "X, y = dask.persist(X, y)"
   ],
   "metadata": {
    "collapsed": false
   }
  },
  {
   "cell_type": "code",
   "execution_count": 12,
   "outputs": [
    {
     "name": "stdout",
     "output_type": "stream",
     "text": [
      "Finished after iteration 6\n",
      "CPU times: user 22.1 s, sys: 21.2 s, total: 43.3 s\n",
      "Wall time: 5.78 s\n"
     ]
    },
    {
     "data": {
      "text/plain": "array([0.30744387, 0.60097382, 0.89870801, 0.91730935, 0.84380097,\n       0.58354754, 0.94813687, 0.39314319, 0.91918467, 0.50457983,\n       0.11536799, 0.41860291, 0.78037588, 0.06091909, 0.52825152,\n       0.5417035 , 0.57982384, 0.9430732 , 0.10879486, 0.65485137,\n       0.93999317, 0.19723471, 0.80508661, 0.23187837, 0.85316477,\n       0.44496217, 0.42689763, 0.81762567, 0.86590048, 0.11709179,\n       0.96961565, 0.66993136, 0.01673115, 0.01558705, 0.79382082,\n       0.08000898, 0.53470816, 0.08340725, 0.09922097, 0.72581508,\n       0.5420635 , 0.29502586, 0.37575328, 0.82764572, 0.31618451,\n       0.54738382, 0.23788227, 0.90785885, 0.1834257 , 0.71519475,\n       0.54763544, 0.97539503, 0.35701731, 0.44070881, 0.56111234,\n       0.14235804, 0.51670951, 0.34935165, 0.90948178, 0.78920452,\n       0.79918222, 0.57488711, 0.81587038, 0.37491911, 0.11693795,\n       0.07787773, 0.45214053, 0.15540361, 0.40277528, 0.27849452,\n       0.29334935, 0.88155416, 0.98158273, 0.94731701, 0.18627063,\n       0.19895755, 0.5991586 , 0.37410776, 0.75034579, 0.7294789 ,\n       0.36515795, 0.41503743, 0.54387936, 0.08550175, 0.54617652,\n       0.19010845, 0.73801257, 0.98382203, 0.44881461, 0.64803704,\n       0.54945177, 0.6932489 , 0.16791206, 0.50514283, 0.41093457,\n       0.84273416, 0.58664342, 0.77725971, 0.84957105, 0.87723993])"
     },
     "execution_count": 12,
     "metadata": {},
     "output_type": "execute_result"
    }
   ],
   "source": [
    "%%time\n",
    "grad_solve_dask(X, y)"
   ],
   "metadata": {
    "collapsed": false
   }
  },
  {
   "cell_type": "code",
   "execution_count": 3,
   "outputs": [
    {
     "name": "stderr",
     "output_type": "stream",
     "text": [
      "2022-11-06 18:25:58.769261: I tensorflow/core/platform/cpu_feature_guard.cc:193] This TensorFlow binary is optimized with oneAPI Deep Neural Network Library (oneDNN) to use the following CPU instructions in performance-critical operations:  AVX2 AVX512F AVX512_VNNI FMA\n",
      "To enable them in other operations, rebuild TensorFlow with the appropriate compiler flags.\n",
      "2022-11-06 18:25:58.920205: I tensorflow/core/util/util.cc:169] oneDNN custom operations are on. You may see slightly different numerical results due to floating-point round-off errors from different computation orders. To turn them off, set the environment variable `TF_ENABLE_ONEDNN_OPTS=0`.\n",
      "2022-11-06 18:25:58.925281: W tensorflow/stream_executor/platform/default/dso_loader.cc:64] Could not load dynamic library 'libcudart.so.11.0'; dlerror: libcudart.so.11.0: cannot open shared object file: No such file or directory\n",
      "2022-11-06 18:25:58.925295: I tensorflow/stream_executor/cuda/cudart_stub.cc:29] Ignore above cudart dlerror if you do not have a GPU set up on your machine.\n",
      "2022-11-06 18:25:58.953220: E tensorflow/stream_executor/cuda/cuda_blas.cc:2981] Unable to register cuBLAS factory: Attempting to register factory for plugin cuBLAS when one has already been registered\n",
      "2022-11-06 18:25:59.577003: W tensorflow/stream_executor/platform/default/dso_loader.cc:64] Could not load dynamic library 'libnvinfer.so.7'; dlerror: libnvinfer.so.7: cannot open shared object file: No such file or directory\n",
      "2022-11-06 18:25:59.577071: W tensorflow/stream_executor/platform/default/dso_loader.cc:64] Could not load dynamic library 'libnvinfer_plugin.so.7'; dlerror: libnvinfer_plugin.so.7: cannot open shared object file: No such file or directory\n",
      "2022-11-06 18:25:59.577077: W tensorflow/compiler/tf2tensorrt/utils/py_utils.cc:38] TF-TRT Warning: Cannot dlopen some TensorRT libraries. If you would like to use Nvidia GPU with TensorRT, please make sure the missing libraries mentioned above are installed properly.\n"
     ]
    },
    {
     "name": "stdout",
     "output_type": "stream",
     "text": [
      "hhh\n",
      "hola\n"
     ]
    }
   ],
   "source": [
    "from css_matrix_completion.transform import sgrad_ls\n",
    "\n",
    "ok_mask = ~np.isnan(M)\n",
    "print('hhh')\n",
    "Y, errors= sgrad_ls(M, ok_mask, C)"
   ],
   "metadata": {
    "collapsed": false
   }
  },
  {
   "cell_type": "code",
   "execution_count": 4,
   "outputs": [
    {
     "data": {
      "text/plain": "array([[ 0.62670319,  0.35309545,  0.63194807, ...,  0.71451554,\n         0.82377893,  0.5861998 ],\n       [ 0.66479734,  0.53599485,  0.76116885, ...,  0.91310118,\n         0.66153726,  0.3076877 ],\n       [ 0.16528714, -0.00421938,  0.40844345, ...,  0.55897085,\n         0.53376564,  0.41081456],\n       ...,\n       [-0.05905263,  0.39805337, -0.07415191, ...,  0.35489775,\n         0.47072425,  0.06526617],\n       [ 0.26675577,  0.92125623,  0.46539768, ...,  1.2663644 ,\n         0.50562897,  0.42682118],\n       [ 0.81001368,  0.82586096, -0.11219603, ...,  0.24370899,\n         0.74012612,  0.62020326]])"
     },
     "execution_count": 4,
     "metadata": {},
     "output_type": "execute_result"
    }
   ],
   "source": [
    "Y"
   ],
   "metadata": {
    "collapsed": false
   }
  },
  {
   "cell_type": "code",
   "execution_count": 5,
   "outputs": [
    {
     "data": {
      "text/plain": "1.0066055830114446"
     },
     "execution_count": 5,
     "metadata": {},
     "output_type": "execute_result"
    }
   ],
   "source": [
    "np.linalg.norm(M-C@Y)/np.linalg.norm(M)"
   ],
   "metadata": {
    "collapsed": false
   }
  },
  {
   "cell_type": "code",
   "execution_count": 6,
   "outputs": [
    {
     "data": {
      "text/plain": "<AxesSubplot: xlabel='trial', ylabel='e'>"
     },
     "execution_count": 6,
     "metadata": {},
     "output_type": "execute_result"
    },
    {
     "data": {
      "text/plain": "<Figure size 640x480 with 1 Axes>",
      "image/png": "[encoded data removed]"
     },
     "metadata": {},
     "output_type": "display_data"
    }
   ],
   "source": [
    "import seaborn as sns\n",
    "import pandas as pd\n",
    "\n",
    "df = pd.DataFrame(np.array(list(enumerate(errors))), columns=['trial', 'e'])\n",
    "sns.lineplot(data=df, x=\"trial\", y=\"e\")"
   ],
   "metadata": {
    "collapsed": false
   }
  },
  {
   "cell_type": "code",
   "execution_count": 8,
   "outputs": [
    {
     "data": {
      "text/plain": "[1258.9618720021285,\n 1220.9286910888986,\n 1184.5222863003787,\n 1149.6729286476398,\n 1116.3116385976864,\n 1084.376605875932,\n 1053.8020665376305,\n 1024.5295820205158,\n 996.4996480164091,\n 969.6641814110028,\n 943.9699262699104,\n 919.3633831071996,\n 895.7997170032697,\n 873.2335656651094,\n 851.623247080882,\n 830.9261456410313,\n 811.1032491564848,\n 792.1162113346115,\n 773.9276759004347,\n 756.5059415471835,\n 739.8161761393435,\n 723.8283351392469,\n 708.5109441469773,\n 693.8352322349838,\n 679.7709360457612,\n 666.2954378912327,\n 653.3830635358712,\n 641.0074505689788,\n 629.1453248458427,\n 617.7764777006546,\n 606.8783869505945,\n 596.4315149745581,\n 586.4154062566284,\n 576.8146223490048,\n 567.606462667894,\n 558.7757295723809,\n 550.3068593084511,\n 542.1848356469982,\n 534.3947458428759,\n 526.9210586954041,\n 519.7515326605305,\n 512.8711631063342,\n 506.26827786905864,\n 499.93074343265187,\n 493.8496268508409,\n 488.0110293460534,\n 482.40472940186476,\n 477.0215630686659,\n 471.85215268096306,\n 466.88712333515286,\n 462.11856702787026,\n 457.5365610720257,\n 453.13483705395566,\n 448.904613814959,\n 444.83752726112357,\n 440.92822472000046,\n 437.1709111922764,\n 433.5583696180917,\n 430.0844597982985,\n 426.7422290367794,\n 423.52861207291016,\n 420.4363943923915,\n 417.46089670521235,\n 414.5976000860251,\n 411.84077183971533,\n 409.1864150258089,\n 406.6317237620982,\n 404.17259378385415,\n 401.8030448963231,\n 399.52117244318293,\n 397.3224031499652,\n 395.2053200170801,\n 393.1645539302797,\n 391.19636392579037,\n 389.2997388812215,\n 387.4712140643532,\n 385.7085709407607,\n 384.0084438045513,\n 382.3687028483683,\n 380.78596159427406,\n 379.2594931362642,\n 377.78722734953476,\n 376.3655364286972,\n 374.99378320586203,\n 373.6686764267472,\n 372.3900378715693,\n 371.15448793149744,\n 369.9608468662356,\n 368.80970888014804,\n 367.69701616740326,\n 366.6220378573175,\n 365.5826221013974,\n 364.57829977882955,\n 363.6076030380779,\n 362.6692580901691,\n 361.7624505170014,\n 360.88597081708747,\n 360.03822135315045,\n 359.21806587588446,\n 358.4249834809505,\n 357.6573201203928,\n 356.91497325965383,\n 356.19673087492833,\n 355.500664193391,\n 354.82763167831604,\n 354.1753476783231,\n 353.5452370143949,\n 352.9349514149307,\n 352.3438938322672,\n 351.77129688880905,\n 351.21735812901323,\n 350.6798730978823,\n 350.1593089023999,\n 349.65459131606843,\n 349.16599137434395,\n 348.6931183296374,\n 348.2350250989006,\n 347.7902971645821,\n 347.3586892265893,\n 346.94121578977484,\n 346.5358894818188,\n 346.1427746104625,\n 345.7619162102829,\n 345.39157449077646,\n 345.033359037386,\n 344.68606814473196,\n 344.3490512390164,\n 344.02221652090753,\n 343.70533575115815,\n 343.3972914744538,\n 343.09891158196587,\n 342.8091926618133,\n 342.5278442993654,\n 342.25510284682895,\n 341.9899151094987,\n 341.73257730215903,\n 341.4829045432929,\n 341.2408359126626,\n 341.0054076933957,\n 340.7768605769948,\n 340.5552857066837,\n 340.339626219656,\n 340.1302484420368,\n 339.92737135400125,\n 339.7306668527388,\n 339.538331589052,\n 339.3522088040109,\n 339.1716968756971,\n 338.99491135159474,\n 338.82412130193705,\n 338.6578637454573,\n 338.49707630685305,\n 338.3394111959073,\n 338.1868796371301,\n 338.0387093616059,\n 337.8944029556957,\n 337.75442334552963,\n 337.6186861674356,\n 337.4865347606912,\n 337.3576984444746,\n 337.23269844303934,\n 337.1110839171005,\n 336.99266077695125,\n 336.8778728786126,\n 336.76631869648503,\n 336.6576529094276,\n 336.5522903513841,\n 336.44974959655474,\n 336.3496938414213,\n 336.2528157002291,\n 336.1581287762707,\n 336.0662284343499,\n 335.97674868863453,\n 335.88977227424783,\n 335.8050593605997,\n 335.7225100324265,\n 335.6423612769217,\n 335.5643142644643,\n 335.48896155146815,\n 335.4149878798572,\n 335.3431552813868,\n 335.27359340691225,\n 335.2058583316168,\n 335.1402220130132,\n 335.0756418585378,\n 335.0133868559575,\n 334.95256950877547,\n 334.89318530445087,\n 334.8358586273575,\n 334.7799541944117,\n 334.725252864174,\n 334.6717650441945,\n 334.6199479453473,\n 334.56965303440285,\n 334.5202760212323,\n 334.4726579712419,\n 334.42601269122304,\n 334.3805694933743,\n 334.3367561657487,\n 334.2941158690612,\n 334.25238520462267,\n 334.2117871316409,\n 334.1724336369106,\n 334.13414247416284,\n 334.0970522408911,\n 334.06060680141235,\n 334.0252452263182,\n 333.99077035183905,\n 333.95735373310345,\n 333.92484040498874,\n 333.89301816984283,\n 333.8621981417133,\n 333.83219270738294,\n 333.8030639424026,\n 333.7744671931161,\n 333.7468964180276,\n 333.7200998474789,\n 333.693707314857,\n 333.6683315612598,\n 333.64339397282174,\n 333.6191374240116,\n 333.59569825416423,\n 333.5727776008812,\n 333.5505984098513,\n 333.52897126095667,\n 333.5077832295089,\n 333.4871089844138,\n 333.46705139662663,\n 333.4477216342994,\n 333.42853003766675,\n 333.4101018966526,\n 333.39217623415897,\n 333.3747158426693,\n 333.3581189095083,\n 333.34125120452654,\n 333.3250230126989,\n 333.30967373646985,\n 333.2942223901837,\n 333.27964065641413,\n 333.2653329071509,\n 333.25139444313254,\n 333.2381508551586,\n 333.2248114518978,\n 333.2119753300753,\n 333.1994600105285,\n 333.1874402450145,\n 333.17540507942437,\n 333.163561053483,\n 333.1524637841238,\n 333.1414517345527,\n 333.13058957547827,\n 333.1203634062658,\n 333.1101668877887,\n 333.10040895067823,\n 333.0907589559563,\n 333.0815834773878,\n 333.0725536886046,\n 333.06353846411577,\n 333.05477321307484,\n 333.04655718629846,\n 333.0383471211411,\n 333.0307046027635,\n 333.02327893498847,\n 333.0161086072387,\n 333.00945091768193,\n 333.00248423704716,\n 332.995776066844,\n 332.9892255017756,\n 332.9828706033342,\n 332.9765627027586,\n 332.9705478154706,\n 332.9647428107115,\n 332.9591514279851,\n 332.9536637861509,\n 332.94841871410927,\n 332.9433059615305,\n 332.93835719099746,\n 332.933589223786,\n 332.9288688659176,\n 332.9244817680752,\n 332.9203136333396,\n 332.9159989278336,\n 332.91174254613793,\n 332.90754153848127,\n 332.9039769356037,\n 332.90019423785674,\n 332.8968837634836,\n 332.893045451576,\n 332.8897194163453,\n 332.88641843417355,\n 332.8831830241086,\n 332.87984767540826,\n 332.8768327484453,\n 332.87395175669013,\n 332.8710891713425,\n 332.8683178401548,\n 332.86567758168616,\n 332.8632071828576,\n 332.8606552062177,\n 332.85824062699476,\n 332.85585361972153,\n 332.8535759970579,\n 332.85105551755714,\n 332.8492325093392,\n 332.84724797551456,\n 332.84503768386304,\n 332.8429905948046,\n 332.84115585295996,\n 332.83933680480646,\n 332.8377365692631,\n 332.8360543542463,\n 332.834606921117,\n 332.8328781653772,\n 332.8312285118739,\n 332.8297495392498,\n 332.82827931256185,\n 332.8269281361613,\n 332.82592372032195,\n 332.82460566432866,\n 332.8231671293542,\n 332.8219412142163,\n 332.8209618779528,\n 332.81977253757435,\n 332.81855942494553,\n 332.81759506085695,\n 332.8166991148643,\n 332.81596190914,\n 332.81476384926157,\n 332.81385105155096,\n 332.81299774240296,\n 332.8122964401266,\n 332.8116020029102,\n 332.8108155358625,\n 332.8100453635665,\n 332.8095400633402,\n 332.808886692603,\n 332.8083453155618,\n 332.80775838475967,\n 332.80723059463656,\n 332.8066321949521,\n 332.8061331336948,\n 332.8057825532411,\n 332.8055652429387,\n 332.80511937995885,\n 332.8044681671472,\n 332.8040578085307,\n 332.80376693544133,\n 332.80345983180894,\n 332.8030414002758,\n 332.8026904793131,\n 332.80246541851596,\n 332.8020281926457,\n 332.80185997110686,\n 332.8018298661745,\n 332.8015129697992,\n 332.8012804946095,\n 332.80136167529844,\n 332.8011677411355,\n 332.80136855738107,\n 332.80138280009254,\n 332.80138153859303,\n 332.80126610220435,\n 332.8010277928343,\n 332.80097166957273,\n 332.8009946689939,\n 332.80096201889654,\n 332.8007940597441,\n 332.8007576722077,\n 332.8006741323801,\n 332.80064484665775,\n 332.8006218132771,\n 332.80062211494993,\n 332.80067734968713,\n 332.8006219033975,\n 332.8005363287149,\n 332.8006549081889,\n 332.8007385088061,\n 332.80078308383736,\n 332.8010456829837,\n 332.80119002226894,\n 332.8012777455871,\n 332.80115529878475,\n 332.80121058186035,\n 332.8013649495294,\n 332.80126528847865,\n 332.80136729110563,\n 332.8016523333397,\n 332.8018977192716,\n 332.80194382021733,\n 332.801921312304,\n 332.80206296606525,\n 332.80219292025146,\n 332.80270500076375,\n 332.802854713761,\n 332.80316251942037,\n 332.8031866301593,\n 332.80325725363167,\n 332.80320294768217,\n 332.8032512270853,\n 332.8035769692008,\n 332.80375880574906,\n 332.80372021929566,\n 332.80386841454015,\n 332.8041043539652,\n 332.8038060700424,\n 332.80393384225755,\n 332.8039147957011,\n 332.80394631643435,\n 332.80395620109636,\n 332.8042158444649,\n 332.8046540942202,\n 332.8047113160668,\n 332.8048606628721,\n 332.80518659460324,\n 332.8050729544951,\n 332.80507755932337,\n 332.8054697960007,\n 332.8057510917074,\n 332.8060039838401,\n 332.8061381082505,\n 332.80604953944857,\n 332.80623420800146,\n 332.806385844295,\n 332.8066130198668,\n 332.806863572517,\n 332.8072260993297,\n 332.80736115467914,\n 332.8075177311203,\n 332.8077749061448,\n 332.80786094521414,\n 332.80821321175074,\n 332.80837787202944,\n 332.80880828941207,\n 332.8090844113984,\n 332.80897983842544,\n 332.8090931265422,\n 332.80926646107986,\n 332.8096249158346,\n 332.8097380949465,\n 332.8098147567929,\n 332.8101470889284,\n 332.8102323259221,\n 332.8103367297861,\n 332.8105381421435,\n 332.8104128603486,\n 332.8103994599992,\n 332.81046080868055,\n 332.8106651767545,\n 332.8108337508751,\n 332.8106593767684,\n 332.8110394320306,\n 332.81143215532626,\n 332.81194346142354,\n 332.81211870507394,\n 332.81247839124825,\n 332.81256336070237,\n 332.81261394369545,\n 332.8128563868484,\n 332.81316328673427,\n 332.8131824114696,\n 332.81343844425305,\n 332.81310055158303,\n 332.8133455556178,\n 332.8134168488096,\n 332.81373913212315,\n 332.8139161241451,\n 332.8142478685134,\n 332.8142170081134,\n 332.81444117751664,\n 332.81436664272513,\n 332.814559733439,\n 332.81453597347354,\n 332.81458241222606,\n 332.814668640437,\n 332.8149198349537,\n 332.8150458564215,\n 332.8150299179547,\n 332.8151327414569,\n 332.815244285607,\n 332.81557953763826,\n 332.815604770583,\n 332.8155484842626,\n 332.815735672212,\n 332.8158727313801,\n 332.81607823308445,\n 332.8162823691929,\n 332.81622804045975,\n 332.8162579671748,\n 332.81639761659835,\n 332.81655437049557,\n 332.8167153589161,\n 332.8170094293252,\n 332.8168322797272,\n 332.8170306599658,\n 332.8171724882225,\n 332.8174536186566,\n 332.81731482908157,\n 332.8175453296557,\n 332.81776698115294,\n 332.8178135971307,\n 332.8181053257119,\n 332.81851180464486,\n 332.8188261218357,\n 332.81898794651676,\n 332.81908322159325,\n 332.81925720372163,\n 332.81891839325203,\n 332.8191011588595,\n 332.81915137682546,\n 332.81942958487946,\n 332.81953826460506,\n 332.81982028833517,\n 332.81962923889114,\n 332.81927540360545,\n 332.81943273670726,\n 332.81930199291423,\n 332.8193820462609,\n 332.819490799008,\n 332.81944002356954,\n 332.81937362388857,\n 332.819299953054,\n 332.8194580946777,\n 332.81966018203343,\n 332.8197936794209,\n 332.8197326734862,\n 332.8198153564655,\n 332.8199096015782,\n 332.8202258310213,\n 332.82068020386254,\n 332.82077758343934,\n 332.82071996674233,\n 332.8207189691346,\n 332.82082063557584,\n 332.8209522517639,\n 332.8211953758182,\n 332.82111469532236,\n 332.8211961390096,\n 332.82096134081917,\n 332.8209432778357,\n 332.8208475342268,\n 332.82086896048213,\n 332.821042433808,\n 332.8211873762988,\n 332.82125647551754,\n 332.8211762519267,\n 332.82118156827414,\n 332.8211268278518,\n 332.82091700382534,\n 332.82083311072245,\n 332.82108294229334,\n 332.82105640237523,\n 332.8210872963875,\n 332.821262003949,\n 332.8211692159088,\n 332.8213107224501,\n 332.8212891371943,\n 332.8213132803715,\n 332.82122681707443,\n 332.8212552762895,\n 332.8212991340235,\n 332.82127022234414,\n 332.8215299023435,\n 332.8214567392117,\n 332.8217073244778,\n 332.8218045300572,\n 332.82203099472076,\n 332.8219516640521,\n 332.8216907257674,\n 332.82152817961395,\n 332.8216489120899,\n 332.82162415321545,\n 332.82182822024777,\n 332.82185136620615,\n 332.8218819607755,\n 332.82206605498806,\n 332.82233172267956,\n 332.82222714676686,\n 332.8220905406861,\n 332.8221967743838,\n 332.82206965119593,\n 332.821971703811,\n 332.82169704766835,\n 332.8216286004757,\n 332.8217242906751,\n 332.8220316699497,\n 332.82211128956453,\n 332.82219470738465,\n 332.8221537283028,\n 332.8221344476708,\n 332.8220589866573,\n 332.8219443022591,\n 332.821754719111,\n 332.82200358941355,\n 332.8220497990428,\n 332.8219672745569,\n 332.82174606448933,\n 332.8216969595407,\n 332.82203602312734,\n 332.82199565353034,\n 332.82201792599125,\n 332.82194268447597,\n 332.8219094613556,\n 332.82196256316047,\n 332.8216880593369,\n 332.8218678488281,\n 332.8219440376874,\n 332.82200980660224,\n 332.82188876279724,\n 332.82197912335187,\n 332.82170631554203,\n 332.8217191738609,\n 332.8217236255874,\n 332.8218954964844,\n 332.82193264781426,\n 332.8221404814841,\n 332.82230007251906,\n 332.82219828729825,\n 332.8222473787063,\n 332.82254148230135,\n 332.8227332572517,\n 332.8228316976858,\n 332.8229155060005,\n 332.82274889392625,\n 332.822842574609,\n 332.8225893905853,\n 332.82275081795456,\n 332.82283224843474,\n 332.82268873706073,\n 332.82295769967965,\n 332.82272939205217,\n 332.8229301041109,\n 332.82291697901843,\n 332.8230579745345,\n 332.8231014874217,\n 332.82321976529414,\n 332.82293823300387,\n 332.82275867664663,\n 332.82268976585243,\n 332.82252500560327,\n 332.8224903571783,\n 332.82272978108944,\n 332.8227142521294,\n 332.8228250298254,\n 332.8228457436785,\n 332.82293518819586,\n 332.82307302424186,\n 332.8230158913103,\n 332.82323179365704,\n 332.8231199231687,\n 332.823215992936,\n 332.8232568798663,\n 332.8233735772432,\n 332.8235334805699,\n 332.8233999111347,\n 332.8232273244213,\n 332.8232042211382,\n 332.8230721283523,\n 332.8230850984849,\n 332.82305134870177,\n 332.8232901120677,\n 332.8232245228055,\n 332.8231752973422,\n 332.8232329565607,\n 332.8232879732621,\n 332.82344060892285,\n 332.8234078660652,\n 332.8233241880356,\n 332.8233141387165,\n 332.823466494635,\n 332.8235660052646,\n 332.82355319259136,\n 332.8235825489806,\n 332.82358922911317,\n 332.8235153830055,\n 332.8238961252962,\n 332.82383489824434,\n 332.82360657260074,\n 332.8237331207665,\n 332.82376956420745,\n 332.82383260448063,\n 332.82367394321017,\n 332.82361052837734,\n 332.82365900146374,\n 332.823450812208,\n 332.823281130928,\n 332.82337183434487,\n 332.8232089290439,\n 332.8230952704837,\n 332.82310810419307,\n 332.82299140064015,\n 332.8229702450162,\n 332.82297331191694,\n 332.8229774594074,\n 332.82293442137745,\n 332.8228701057145,\n 332.82277598663586,\n 332.82267992270704,\n 332.82254760538865,\n 332.82241079104676,\n 332.82238674528014,\n 332.8223277148017,\n 332.8221669907294,\n 332.8222546562406,\n 332.8221524416174,\n 332.8220178400409,\n 332.8221539881156,\n 332.82226205901526,\n 332.82228427323287,\n 332.82254326493336,\n 332.8226500286337,\n 332.82278902319723,\n 332.82286674749406,\n 332.82291955398915,\n 332.82273671314306,\n 332.8226047806774,\n 332.8226617270299,\n 332.82284522239394,\n 332.82282087252685,\n 332.82270119233687,\n 332.8226883099754,\n 332.82265480667957,\n 332.82270366286116,\n 332.8226451376512,\n 332.8228483464161,\n 332.8229473572305,\n 332.823033220413,\n 332.82307310838763,\n 332.82292479021595,\n 332.823005235373,\n 332.82292643876775,\n 332.8228015748203,\n 332.8228304921908,\n 332.8228912084641,\n 332.8228058884629,\n 332.82274785702646,\n 332.8228452771297,\n 332.8226322193164,\n 332.8228072175633,\n 332.8227139353977,\n 332.82260897878325,\n 332.8226943810773,\n 332.82267027008197,\n 332.8224626011264,\n 332.82255909584916,\n 332.8225634093827,\n 332.82282619034265,\n 332.82272425095573,\n 332.8229160798698,\n 332.82278965005406,\n 332.82288242685485,\n 332.8230379019343,\n 332.8228842414403,\n 332.82294737864447,\n 332.8231054751803,\n 332.8230237447557,\n 332.82300862686606,\n 332.82302315182153,\n 332.82260972053865,\n 332.82266835796634,\n 332.82259823388245,\n 332.82272390409173,\n 332.8226491967671,\n 332.8225265558659,\n 332.8225686476393,\n 332.8226528328107,\n 332.8228251114096,\n 332.8225630156299,\n 332.8224610528408,\n 332.82231965160935,\n 332.82241081286236,\n 332.822720234981,\n 332.8224199666925,\n 332.82235534333034,\n 332.82238270691414,\n 332.8224343066389,\n 332.82247011847477,\n 332.82227282432694,\n 332.8222642967758,\n 332.82237009177766,\n 332.8223493576485,\n 332.82243067749897,\n 332.822276768824,\n 332.8223531391502,\n 332.82216062500896,\n 332.8220533096336,\n 332.82205551107177,\n 332.82198662804393,\n 332.82190681601173,\n 332.8220925355439,\n 332.8221030119975,\n 332.82240871769886,\n 332.82220746554077,\n 332.8223873339238,\n 332.822566286302,\n 332.82254838065614,\n 332.82249660010103,\n 332.82246716951516,\n 332.82246975627515,\n 332.82258921880526,\n 332.82242081011475,\n 332.82236532552366,\n 332.82227866422073,\n 332.8220882390492,\n 332.82184765482964,\n 332.82168553803734,\n 332.8215565821075,\n 332.82164267883263,\n 332.82182419227667,\n 332.8218079208373,\n 332.8214753318982,\n 332.82148981852947,\n 332.8215454764892,\n 332.82159781285,\n 332.82147384226084,\n 332.82164111051657,\n 332.8216719566385,\n 332.8219187216721,\n 332.82214541482745,\n 332.82227455457445,\n 332.82223811610004,\n 332.82221425821314,\n 332.82195706371795,\n 332.82170231371487,\n 332.82164012301405,\n 332.82147525806346,\n 332.82161326158575,\n 332.8216914848282,\n 332.82161288851444,\n 332.821891798035,\n 332.82181218849155,\n 332.82169888312234,\n 332.82160941080144,\n 332.8215509224853,\n 332.8215388241567,\n 332.821358190302,\n 332.821140809552,\n 332.8210841851591,\n 332.82109910341615,\n 332.82102113243315,\n 332.82091105379163,\n 332.820926406785,\n 332.82094204551794,\n 332.82073703353166,\n 332.82098168155034,\n 332.8208409511114,\n 332.82078117502124,\n 332.8207846480013,\n 332.8208838211814,\n 332.8208805724525,\n 332.82119693643256,\n 332.82113466108433,\n 332.8210606400613,\n 332.82119382383934,\n 332.82125694136397,\n 332.8212439513864,\n 332.821422254117,\n 332.8212244984247,\n 332.8214766458857,\n 332.8217942221935,\n 332.82165772366284,\n 332.8216602715049,\n 332.82187734980363,\n 332.8217672976139,\n 332.82193887547754,\n 332.8220159884918,\n 332.821660565841,\n 332.82176636792093,\n 332.82178671695544,\n 332.8215805490472,\n 332.82176263376596,\n 332.8218326293942,\n 332.8218083706291,\n 332.82158854866043,\n 332.8215057234211,\n 332.82145358317314,\n 332.82115947715306,\n 332.8211823163597,\n 332.82114569604397,\n 332.82120548314083,\n 332.8212057850514,\n 332.8211079955737,\n 332.8211127574916,\n 332.8208972530195,\n 332.8208035758967,\n 332.82083762890034,\n 332.8208314543508,\n 332.8209412722525,\n 332.8210751013366,\n 332.82108230049295,\n 332.82111126625256,\n 332.8210633720135,\n 332.8210394179352,\n 332.8209109779572,\n 332.8208573396108,\n 332.82082124475994,\n 332.8207175031675,\n 332.82091239302775,\n 332.82088507667083,\n 332.8209838635942,\n 332.82103760588996,\n 332.82129707877505,\n 332.82135660629683,\n 332.82135243863206,\n 332.821479147737,\n 332.8217088934475,\n 332.82178505310236,\n 332.8217643186301,\n 332.82172341088034,\n 332.82175722013295,\n 332.82200524732656,\n 332.8219404324148,\n 332.82180599711864,\n 332.8219006169338,\n 332.82196032403345,\n 332.8217216866138,\n 332.8216698201039,\n 332.82161207607595,\n 332.82149131443845,\n 332.8215661497976,\n 332.8215082387036,\n 332.8215235022484,\n 332.8216499683746,\n 332.8218147267195,\n 332.82171365289304,\n 332.82174176747634,\n 332.82146638348866,\n 332.82139228150265,\n 332.82155768935536,\n 332.8211900893796,\n 332.8209495650775,\n 332.820881776323,\n 332.8207403809191,\n 332.82068475454554,\n 332.8207988779462,\n 332.8208254911487,\n 332.82061948486523,\n 332.82059364666367,\n 332.8205305458506,\n 332.82053055514,\n 332.82083398235693,\n 332.8210428547862,\n 332.82115661372916,\n 332.8214924897287,\n 332.82135255679424,\n 332.8214089674492,\n 332.8215848511957,\n 332.82176757530937,\n 332.82197253404587,\n 332.8220955663444,\n 332.82196129922346,\n 332.82189032743173,\n 332.82179968634466,\n 332.8215202486883,\n 332.82159886877554,\n 332.82155218592663,\n 332.82139649788456,\n 332.82129197741176,\n 332.8210987954962,\n 332.82128070953394,\n 332.8214128179098,\n 332.8213472395316,\n 332.8213189434157,\n 332.8215186928043,\n 332.821631336032,\n 332.8216375871705,\n 332.8214984822296,\n 332.8215318663257,\n 332.82131195570514,\n 332.8214578923546,\n 332.82125742067524,\n 332.82102060235246,\n 332.82102025522863,\n 332.820972704382,\n 332.82102039226106,\n 332.82093474499044,\n 332.8210140486353,\n 332.8208318430701,\n 332.82094867459,\n 332.8210885949541,\n 332.8211593160751,\n 332.821192370043,\n 332.8210521685519,\n 332.82088950755866,\n 332.82058852414684,\n 332.8205291172889,\n 332.82044455436824,\n 332.8206748035328,\n 332.82082524706783,\n 332.82095020204736,\n 332.82086944148995,\n 332.82065089889807,\n 332.8208135468871,\n 332.8207880724181,\n 332.8208161878439,\n 332.82065514775536,\n 332.82071801128467,\n 332.8208762647863,\n 332.82081993578464,\n 332.820837414929,\n 332.8204921325314]"
     },
     "execution_count": 8,
     "metadata": {},
     "output_type": "execute_result"
    }
   ],
   "source": [],
   "metadata": {
    "collapsed": false
   }
  },
  {
   "cell_type": "code",
   "execution_count": 9,
   "outputs": [
    {
     "data": {
      "text/plain": "array([[0.00000000e+00, 1.25896187e+03],\n       [1.00000000e+00, 1.22092869e+03],\n       [2.00000000e+00, 1.18452229e+03],\n       ...,\n       [9.97000000e+02, 3.32820820e+02],\n       [9.98000000e+02, 3.32820837e+02],\n       [9.99000000e+02, 3.32820492e+02]])"
     },
     "execution_count": 9,
     "metadata": {},
     "output_type": "execute_result"
    }
   ],
   "source": [
    "np.array(list(enumerate(errors)))"
   ],
   "metadata": {
    "collapsed": false
   }
  },
  {
   "cell_type": "code",
   "execution_count": 5,
   "outputs": [
    {
     "data": {
      "text/plain": "[1608.5939116786963,\n 315.7063009947255,\n 315.7063009947255,\n 315.7063009947255,\n 315.7063009947255,\n 315.7063009947255,\n 315.7063009947255,\n 315.7063009947255,\n 315.7063009947255,\n 315.7063009947255,\n 315.7063009947255,\n 315.7063009947255,\n 315.7063009947255,\n 315.7063009947255,\n 315.7063009947255,\n 315.7063009947255,\n 315.7063009947255,\n 315.7063009947255,\n 315.7063009947255,\n 315.7063009947255,\n 315.7063009947255,\n 315.7063009947255,\n 315.7063009947255,\n 315.7063009947255,\n 315.7063009947255,\n 315.7063009947255,\n 315.7063009947255,\n 315.7063009947255,\n 315.7063009947255,\n 315.7063009947255,\n 315.7063009947255,\n 315.7063009947255,\n 315.7063009947255,\n 315.7063009947255,\n 315.7063009947255,\n 315.7063009947255,\n 315.7063009947255,\n 315.7063009947255,\n 315.7063009947255,\n 315.7063009947255,\n 315.7063009947255,\n 315.7063009947255,\n 315.7063009947255,\n 315.7063009947255,\n 315.7063009947255,\n 315.7063009947255,\n 315.7063009947255,\n 315.7063009947255,\n 315.7063009947255,\n 315.7063009947255,\n 315.7063009947255,\n 315.7063009947255,\n 315.7063009947255,\n 315.7063009947255,\n 315.7063009947255,\n 315.7063009947255,\n 315.7063009947255,\n 315.7063009947255,\n 315.7063009947255,\n 315.7063009947255,\n 315.7063009947255,\n 315.7063009947255,\n 315.7063009947255,\n 315.7063009947255,\n 315.7063009947255,\n 315.7063009947255,\n 315.7063009947255,\n 315.7063009947255,\n 315.7063009947255,\n 315.7063009947255,\n 315.7063009947255,\n 315.7063009947255,\n 315.7063009947255,\n 315.7063009947255,\n 315.7063009947255,\n 315.7063009947255,\n 315.7063009947255,\n 315.7063009947255,\n 315.7063009947255,\n 315.7063009947255,\n 315.7063009947255,\n 315.7063009947255,\n 315.7063009947255,\n 315.7063009947255,\n 315.7063009947255,\n 315.7063009947255,\n 315.7063009947255,\n 315.7063009947255,\n 315.7063009947255,\n 315.7063009947255,\n 315.7063009947255,\n 315.7063009947255,\n 315.7063009947255,\n 315.7063009947255,\n 315.7063009947255,\n 315.7063009947255,\n 315.7063009947255,\n 315.7063009947255,\n 315.7063009947255,\n 315.7063009947255,\n 315.7063009947255,\n 315.7063009947255,\n 315.7063009947255,\n 315.7063009947255,\n 315.7063009947255,\n 315.7063009947255,\n 315.7063009947255,\n 315.7063009947255,\n 315.7063009947255,\n 315.7063009947255,\n 315.7063009947255,\n 315.7063009947255,\n 315.7063009947255,\n 315.7063009947255,\n 315.7063009947255,\n 315.7063009947255,\n 315.7063009947255,\n 315.7063009947255,\n 315.7063009947255,\n 315.7063009947255,\n 315.7063009947255,\n 315.7063009947255,\n 315.7063009947255,\n 315.7063009947255,\n 315.7063009947255,\n 315.7063009947255,\n 315.7063009947255,\n 315.7063009947255,\n 315.7063009947255,\n 315.7063009947255,\n 315.7063009947255,\n 315.7063009947255,\n 315.7063009947255,\n 315.7063009947255,\n 315.7063009947255,\n 315.7063009947255,\n 315.7063009947255,\n 315.7063009947255,\n 315.7063009947255,\n 315.7063009947255,\n 315.7063009947255,\n 315.7063009947255,\n 315.7063009947255,\n 315.7063009947255,\n 315.7063009947255,\n 315.7063009947255,\n 315.7063009947255,\n 315.7063009947255,\n 315.7063009947255,\n 315.7063009947255,\n 315.7063009947255,\n 315.7063009947255,\n 315.7063009947255,\n 315.7063009947255,\n 315.7063009947255,\n 315.7063009947255,\n 315.7063009947255,\n 315.7063009947255,\n 315.7063009947255,\n 315.7063009947255,\n 315.7063009947255,\n 315.7063009947255,\n 315.7063009947255,\n 315.7063009947255,\n 315.7063009947255,\n 315.7063009947255,\n 315.7063009947255,\n 315.7063009947255,\n 315.7063009947255,\n 315.7063009947255,\n 315.7063009947255,\n 315.7063009947255,\n 315.7063009947255,\n 315.7063009947255,\n 315.7063009947255,\n 315.7063009947255,\n 315.7063009947255,\n 315.7063009947255,\n 315.7063009947255,\n 315.7063009947255,\n 315.7063009947255,\n 315.7063009947255,\n 315.7063009947255,\n 315.7063009947255,\n 315.7063009947255,\n 315.7063009947255,\n 315.7063009947255,\n 315.7063009947255,\n 315.7063009947255,\n 315.7063009947255,\n 315.7063009947255,\n 315.7063009947255,\n 315.7063009947255,\n 315.7063009947255,\n 315.7063009947255,\n 315.7063009947255,\n 315.7063009947255,\n 315.7063009947255,\n 315.7063009947255,\n 315.7063009947255,\n 315.7063009947255,\n 315.7063009947255,\n 315.7063009947255,\n 315.7063009947255,\n 315.7063009947255,\n 315.7063009947255,\n 315.7063009947255,\n 315.7063009947255,\n 315.7063009947255,\n 315.7063009947255,\n 315.7063009947255,\n 315.7063009947255,\n 315.7063009947255,\n 315.7063009947255,\n 315.7063009947255,\n 315.7063009947255,\n 315.7063009947255,\n 315.7063009947255,\n 315.7063009947255,\n 315.7063009947255,\n 315.7063009947255,\n 315.7063009947255,\n 315.7063009947255,\n 315.7063009947255,\n 315.7063009947255,\n 315.7063009947255,\n 315.7063009947255,\n 315.7063009947255,\n 315.7063009947255,\n 315.7063009947255,\n 315.7063009947255,\n 315.7063009947255,\n 315.7063009947255,\n 315.7063009947255,\n 315.7063009947255,\n 315.7063009947255,\n 315.7063009947255,\n 315.7063009947255,\n 315.7063009947255,\n 315.7063009947255,\n 315.7063009947255,\n 315.7063009947255,\n 315.7063009947255,\n 315.7063009947255,\n 315.7063009947255,\n 315.7063009947255,\n 315.7063009947255,\n 315.7063009947255,\n 315.7063009947255,\n 315.7063009947255,\n 315.7063009947255,\n 315.7063009947255,\n 315.7063009947255,\n 315.7063009947255,\n 315.7063009947255,\n 315.7063009947255,\n 315.7063009947255,\n 315.7063009947255,\n 315.7063009947255,\n 315.7063009947255,\n 315.7063009947255,\n 315.7063009947255,\n 315.7063009947255,\n 315.7063009947255,\n 315.7063009947255,\n 315.7063009947255,\n 315.7063009947255,\n 315.7063009947255,\n 315.7063009947255,\n 315.7063009947255,\n 315.7063009947255,\n 315.7063009947255,\n 315.7063009947255,\n 315.7063009947255,\n 315.7063009947255,\n 315.7063009947255,\n 315.7063009947255,\n 315.7063009947255,\n 315.7063009947255,\n 315.7063009947255,\n 315.7063009947255,\n 315.7063009947255,\n 315.7063009947255,\n 315.7063009947255,\n 315.7063009947255,\n 315.7063009947255,\n 315.7063009947255,\n 315.7063009947255,\n 315.7063009947255,\n 315.7063009947255,\n 315.7063009947255,\n 315.7063009947255,\n 315.7063009947255,\n 315.7063009947255,\n 315.7063009947255,\n 315.7063009947255,\n 315.7063009947255,\n 315.7063009947255,\n 315.7063009947255,\n 315.7063009947255,\n 315.7063009947255,\n 315.7063009947255,\n 315.7063009947255,\n 315.7063009947255,\n 315.7063009947255,\n 315.7063009947255,\n 315.7063009947255,\n 315.7063009947255,\n 315.7063009947255,\n 315.7063009947255,\n 315.7063009947255,\n 315.7063009947255,\n 315.7063009947255,\n 315.7063009947255,\n 315.7063009947255,\n 315.7063009947255,\n 315.7063009947255,\n 315.7063009947255,\n 315.7063009947255,\n 315.7063009947255,\n 315.7063009947255,\n 315.7063009947255,\n 315.7063009947255,\n 315.7063009947255,\n 315.7063009947255,\n 315.7063009947255,\n 315.7063009947255,\n 315.7063009947255,\n 315.7063009947255,\n 315.7063009947255,\n 315.7063009947255,\n 315.7063009947255,\n 315.7063009947255,\n 315.7063009947255,\n 315.7063009947255,\n 315.7063009947255,\n 315.7063009947255,\n 315.7063009947255,\n 315.7063009947255,\n 315.7063009947255,\n 315.7063009947255,\n 315.7063009947255,\n 315.7063009947255,\n 315.7063009947255,\n 315.7063009947255,\n 315.7063009947255,\n 315.7063009947255,\n 315.7063009947255,\n 315.7063009947255,\n 315.7063009947255,\n 315.7063009947255,\n 315.7063009947255,\n 315.7063009947255,\n 315.7063009947255,\n 315.7063009947255,\n 315.7063009947255,\n 315.7063009947255,\n 315.7063009947255,\n 315.7063009947255,\n 315.7063009947255,\n 315.7063009947255,\n 315.7063009947255,\n 315.7063009947255,\n 315.7063009947255,\n 315.7063009947255,\n 315.7063009947255,\n 315.7063009947255,\n 315.7063009947255,\n 315.7063009947255,\n 315.7063009947255,\n 315.7063009947255,\n 315.7063009947255,\n 315.7063009947255,\n 315.7063009947255,\n 315.7063009947255,\n 315.7063009947255,\n 315.7063009947255,\n 315.7063009947255,\n 315.7063009947255,\n 315.7063009947255,\n 315.7063009947255,\n 315.7063009947255,\n 315.7063009947255,\n 315.7063009947255,\n 315.7063009947255,\n 315.7063009947255,\n 315.7063009947255,\n 315.7063009947255,\n 315.7063009947255,\n 315.7063009947255,\n 315.7063009947255,\n 315.7063009947255,\n 315.7063009947255,\n 315.7063009947255,\n 315.7063009947255,\n 315.7063009947255,\n 315.7063009947255,\n 315.7063009947255,\n 315.7063009947255,\n 315.7063009947255,\n 315.7063009947255,\n 315.7063009947255,\n 315.7063009947255,\n 315.7063009947255,\n 315.7063009947255,\n 315.7063009947255,\n 315.7063009947255,\n 315.7063009947255,\n 315.7063009947255,\n 315.7063009947255,\n 315.7063009947255,\n 315.7063009947255,\n 315.7063009947255,\n 315.7063009947255,\n 315.7063009947255,\n 315.7063009947255,\n 315.7063009947255,\n 315.7063009947255,\n 315.7063009947255,\n 315.7063009947255,\n 315.7063009947255,\n 315.7063009947255,\n 315.7063009947255,\n 315.7063009947255,\n 315.7063009947255,\n 315.7063009947255,\n 315.7063009947255,\n 315.7063009947255,\n 315.7063009947255,\n 315.7063009947255,\n 315.7063009947255,\n 315.7063009947255,\n 315.7063009947255,\n 315.7063009947255,\n 315.7063009947255,\n 315.7063009947255,\n 315.7063009947255,\n 315.7063009947255,\n 315.7063009947255,\n 315.7063009947255,\n 315.7063009947255,\n 315.7063009947255,\n 315.7063009947255,\n 315.7063009947255,\n 315.7063009947255,\n 315.7063009947255,\n 315.7063009947255,\n 315.7063009947255,\n 315.7063009947255,\n 315.7063009947255,\n 315.7063009947255,\n 315.7063009947255,\n 315.7063009947255,\n 315.7063009947255,\n 315.7063009947255,\n 315.7063009947255,\n 315.7063009947255,\n 315.7063009947255,\n 315.7063009947255,\n 315.7063009947255,\n 315.7063009947255,\n 315.7063009947255,\n 315.7063009947255,\n 315.7063009947255,\n 315.7063009947255,\n 315.7063009947255,\n 315.7063009947255,\n 315.7063009947255,\n 315.7063009947255,\n 315.7063009947255,\n 315.7063009947255,\n 315.7063009947255,\n 315.7063009947255,\n 315.7063009947255,\n 315.7063009947255,\n 315.7063009947255,\n 315.7063009947255,\n 315.7063009947255,\n 315.7063009947255,\n 315.7063009947255,\n 315.7063009947255,\n 315.7063009947255,\n 315.7063009947255,\n 315.7063009947255,\n 315.7063009947255,\n 315.7063009947255,\n 315.7063009947255,\n 315.7063009947255,\n 315.7063009947255,\n 315.7063009947255,\n 315.7063009947255,\n 315.7063009947255,\n 315.7063009947255,\n 315.7063009947255,\n 315.7063009947255,\n 315.7063009947255,\n 315.7063009947255,\n 315.7063009947255,\n 315.7063009947255,\n 315.7063009947255,\n 315.7063009947255,\n 315.7063009947255,\n 315.7063009947255,\n 315.7063009947255,\n 315.7063009947255,\n 315.7063009947255,\n 315.7063009947255,\n 315.7063009947255,\n 315.7063009947255,\n 315.7063009947255,\n 315.7063009947255,\n 315.7063009947255,\n 315.7063009947255,\n 315.7063009947255,\n 315.7063009947255,\n 315.7063009947255,\n 315.7063009947255,\n 315.7063009947255,\n 315.7063009947255,\n 315.7063009947255,\n 315.7063009947255,\n 315.7063009947255,\n 315.7063009947255,\n 315.7063009947255,\n 315.7063009947255,\n 315.7063009947255,\n 315.7063009947255,\n 315.7063009947255,\n 315.7063009947255,\n 315.7063009947255,\n 315.7063009947255,\n 315.7063009947255,\n 315.7063009947255,\n 315.7063009947255,\n 315.7063009947255,\n 315.7063009947255,\n 315.7063009947255,\n 315.7063009947255,\n 315.7063009947255,\n 315.7063009947255,\n 315.7063009947255,\n 315.7063009947255,\n 315.7063009947255,\n 315.7063009947255,\n 315.7063009947255,\n 315.7063009947255,\n 315.7063009947255,\n 315.7063009947255,\n 315.7063009947255,\n 315.7063009947255,\n 315.7063009947255,\n 315.7063009947255,\n 315.7063009947255,\n 315.7063009947255,\n 315.7063009947255,\n 315.7063009947255,\n 315.7063009947255,\n 315.7063009947255,\n 315.7063009947255,\n 315.7063009947255,\n 315.7063009947255,\n 315.7063009947255,\n 315.7063009947255,\n 315.7063009947255,\n 315.7063009947255,\n 315.7063009947255,\n 315.7063009947255,\n 315.7063009947255,\n 315.7063009947255,\n 315.7063009947255,\n 315.7063009947255,\n 315.7063009947255,\n 315.7063009947255,\n 315.7063009947255,\n 315.7063009947255,\n 315.7063009947255,\n 315.7063009947255,\n 315.7063009947255,\n 315.7063009947255,\n 315.7063009947255,\n 315.7063009947255,\n 315.7063009947255,\n 315.7063009947255,\n 315.7063009947255,\n 315.7063009947255,\n 315.7063009947255,\n 315.7063009947255,\n 315.7063009947255,\n 315.7063009947255,\n 315.7063009947255,\n 315.7063009947255,\n 315.7063009947255,\n 315.7063009947255,\n 315.7063009947255,\n 315.7063009947255,\n 315.7063009947255,\n 315.7063009947255,\n 315.7063009947255,\n 315.7063009947255,\n 315.7063009947255,\n 315.7063009947255,\n 315.7063009947255,\n 315.7063009947255,\n 315.7063009947255,\n 315.7063009947255,\n 315.7063009947255,\n 315.7063009947255,\n 315.7063009947255,\n 315.7063009947255,\n 315.7063009947255,\n 315.7063009947255,\n 315.7063009947255,\n 315.7063009947255,\n 315.7063009947255,\n 315.7063009947255,\n 315.7063009947255,\n 315.7063009947255,\n 315.7063009947255,\n 315.7063009947255,\n 315.7063009947255,\n 315.7063009947255,\n 315.7063009947255,\n 315.7063009947255,\n 315.7063009947255,\n 315.7063009947255,\n 315.7063009947255,\n 315.7063009947255,\n 315.7063009947255,\n 315.7063009947255,\n 315.7063009947255,\n 315.7063009947255,\n 315.7063009947255,\n 315.7063009947255,\n 315.7063009947255,\n 315.7063009947255,\n 315.7063009947255,\n 315.7063009947255,\n 315.7063009947255,\n 315.7063009947255,\n 315.7063009947255,\n 315.7063009947255,\n 315.7063009947255,\n 315.7063009947255,\n 315.7063009947255,\n 315.7063009947255,\n 315.7063009947255,\n 315.7063009947255,\n 315.7063009947255,\n 315.7063009947255,\n 315.7063009947255,\n 315.7063009947255,\n 315.7063009947255,\n 315.7063009947255,\n 315.7063009947255,\n 315.7063009947255,\n 315.7063009947255,\n 315.7063009947255,\n 315.7063009947255,\n 315.7063009947255,\n 315.7063009947255,\n 315.7063009947255,\n 315.7063009947255,\n 315.7063009947255,\n 315.7063009947255,\n 315.7063009947255,\n 315.7063009947255,\n 315.7063009947255,\n 315.7063009947255,\n 315.7063009947255,\n 315.7063009947255,\n 315.7063009947255,\n 315.7063009947255,\n 315.7063009947255,\n 315.7063009947255,\n 315.7063009947255,\n 315.7063009947255,\n 315.7063009947255,\n 315.7063009947255,\n 315.7063009947255,\n 315.7063009947255,\n 315.7063009947255,\n 315.7063009947255,\n 315.7063009947255,\n 315.7063009947255,\n 315.7063009947255,\n 315.7063009947255,\n 315.7063009947255,\n 315.7063009947255,\n 315.7063009947255,\n 315.7063009947255,\n 315.7063009947255,\n 315.7063009947255,\n 315.7063009947255,\n 315.7063009947255,\n 315.7063009947255,\n 315.7063009947255,\n 315.7063009947255,\n 315.7063009947255,\n 315.7063009947255,\n 315.7063009947255,\n 315.7063009947255,\n 315.7063009947255,\n 315.7063009947255,\n 315.7063009947255,\n 315.7063009947255,\n 315.7063009947255,\n 315.7063009947255,\n 315.7063009947255,\n 315.7063009947255,\n 315.7063009947255,\n 315.7063009947255,\n 315.7063009947255,\n 315.7063009947255,\n 315.7063009947255,\n 315.7063009947255,\n 315.7063009947255,\n 315.7063009947255,\n 315.7063009947255,\n 315.7063009947255,\n 315.7063009947255,\n 315.7063009947255,\n 315.7063009947255,\n 315.7063009947255,\n 315.7063009947255,\n 315.7063009947255,\n 315.7063009947255,\n 315.7063009947255,\n 315.7063009947255,\n 315.7063009947255,\n 315.7063009947255,\n 315.7063009947255,\n 315.7063009947255,\n 315.7063009947255,\n 315.7063009947255,\n 315.7063009947255,\n 315.7063009947255,\n 315.7063009947255,\n 315.7063009947255,\n 315.7063009947255,\n 315.7063009947255,\n 315.7063009947255,\n 315.7063009947255,\n 315.7063009947255,\n 315.7063009947255,\n 315.7063009947255,\n 315.7063009947255,\n 315.7063009947255,\n 315.7063009947255,\n 315.7063009947255,\n 315.7063009947255,\n 315.7063009947255,\n 315.7063009947255,\n 315.7063009947255,\n 315.7063009947255,\n 315.7063009947255,\n 315.7063009947255,\n 315.7063009947255,\n 315.7063009947255,\n 315.7063009947255,\n 315.7063009947255,\n 315.7063009947255,\n 315.7063009947255,\n 315.7063009947255,\n 315.7063009947255,\n 315.7063009947255,\n 315.7063009947255,\n 315.7063009947255,\n 315.7063009947255,\n 315.7063009947255,\n 315.7063009947255,\n 315.7063009947255,\n 315.7063009947255,\n 315.7063009947255,\n 315.7063009947255,\n 315.7063009947255,\n 315.7063009947255,\n 315.7063009947255,\n 315.7063009947255,\n 315.7063009947255,\n 315.7063009947255,\n 315.7063009947255,\n 315.7063009947255,\n 315.7063009947255,\n 315.7063009947255,\n 315.7063009947255,\n 315.7063009947255,\n 315.7063009947255,\n 315.7063009947255,\n 315.7063009947255,\n 315.7063009947255,\n 315.7063009947255,\n 315.7063009947255,\n 315.7063009947255,\n 315.7063009947255,\n 315.7063009947255,\n 315.7063009947255,\n 315.7063009947255,\n 315.7063009947255,\n 315.7063009947255,\n 315.7063009947255,\n 315.7063009947255,\n 315.7063009947255,\n 315.7063009947255,\n 315.7063009947255,\n 315.7063009947255,\n 315.7063009947255,\n 315.7063009947255,\n 315.7063009947255,\n 315.7063009947255,\n 315.7063009947255,\n 315.7063009947255,\n 315.7063009947255,\n 315.7063009947255,\n 315.7063009947255,\n 315.7063009947255,\n 315.7063009947255,\n 315.7063009947255,\n 315.7063009947255,\n 315.7063009947255,\n 315.7063009947255,\n 315.7063009947255,\n 315.7063009947255,\n 315.7063009947255,\n 315.7063009947255,\n 315.7063009947255,\n 315.7063009947255,\n 315.7063009947255,\n 315.7063009947255,\n 315.7063009947255,\n 315.7063009947255,\n 315.7063009947255,\n 315.7063009947255,\n 315.7063009947255,\n 315.7063009947255,\n 315.7063009947255,\n 315.7063009947255,\n 315.7063009947255,\n 315.7063009947255,\n 315.7063009947255,\n 315.7063009947255,\n 315.7063009947255,\n 315.7063009947255,\n 315.7063009947255,\n 315.7063009947255,\n 315.7063009947255,\n 315.7063009947255,\n 315.7063009947255,\n 315.7063009947255,\n 315.7063009947255,\n 315.7063009947255,\n 315.7063009947255,\n 315.7063009947255,\n 315.7063009947255,\n 315.7063009947255,\n 315.7063009947255,\n 315.7063009947255,\n 315.7063009947255,\n 315.7063009947255,\n 315.7063009947255,\n 315.7063009947255,\n 315.7063009947255,\n 315.7063009947255,\n 315.7063009947255,\n 315.7063009947255,\n 315.7063009947255,\n 315.7063009947255,\n 315.7063009947255,\n 315.7063009947255,\n 315.7063009947255,\n 315.7063009947255,\n 315.7063009947255,\n 315.7063009947255,\n 315.7063009947255,\n 315.7063009947255,\n 315.7063009947255,\n 315.7063009947255,\n 315.7063009947255,\n 315.7063009947255,\n 315.7063009947255,\n 315.7063009947255,\n 315.7063009947255,\n 315.7063009947255,\n 315.7063009947255,\n 315.7063009947255,\n 315.7063009947255,\n 315.7063009947255,\n 315.7063009947255,\n 315.7063009947255,\n 315.7063009947255,\n 315.7063009947255,\n 315.7063009947255,\n 315.7063009947255,\n 315.7063009947255,\n 315.7063009947255,\n 315.7063009947255,\n 315.7063009947255,\n 315.7063009947255,\n 315.7063009947255,\n 315.7063009947255,\n 315.7063009947255,\n 315.7063009947255,\n 315.7063009947255,\n 315.7063009947255,\n 315.7063009947255,\n 315.7063009947255,\n 315.7063009947255,\n 315.7063009947255,\n 315.7063009947255,\n 315.7063009947255,\n 315.7063009947255,\n 315.7063009947255,\n 315.7063009947255,\n 315.7063009947255,\n 315.7063009947255,\n 315.7063009947255,\n 315.7063009947255,\n 315.7063009947255,\n 315.7063009947255,\n 315.7063009947255,\n 315.7063009947255,\n 315.7063009947255,\n 315.7063009947255,\n 315.7063009947255,\n 315.7063009947255,\n 315.7063009947255,\n 315.7063009947255,\n 315.7063009947255,\n 315.7063009947255,\n 315.7063009947255,\n 315.7063009947255,\n 315.7063009947255,\n 315.7063009947255,\n 315.7063009947255,\n 315.7063009947255,\n 315.7063009947255,\n 315.7063009947255,\n 315.7063009947255,\n 315.7063009947255,\n 315.7063009947255,\n 315.7063009947255,\n 315.7063009947255,\n 315.7063009947255,\n 315.7063009947255,\n 315.7063009947255,\n 315.7063009947255,\n 315.7063009947255,\n 315.7063009947255,\n 315.7063009947255,\n 315.7063009947255,\n 315.7063009947255,\n 315.7063009947255,\n 315.7063009947255,\n 315.7063009947255,\n 315.7063009947255,\n 315.7063009947255,\n 315.7063009947255,\n 315.7063009947255,\n 315.7063009947255,\n 315.7063009947255,\n 315.7063009947255,\n 315.7063009947255,\n 315.7063009947255,\n 315.7063009947255,\n 315.7063009947255,\n 315.7063009947255,\n 315.7063009947255,\n 315.7063009947255,\n 315.7063009947255,\n 315.7063009947255,\n 315.7063009947255,\n 315.7063009947255,\n 315.7063009947255,\n 315.7063009947255,\n 315.7063009947255,\n 315.7063009947255,\n 315.7063009947255,\n 315.7063009947255,\n 315.7063009947255,\n 315.7063009947255,\n 315.7063009947255,\n 315.7063009947255,\n 315.7063009947255,\n 315.7063009947255,\n 315.7063009947255,\n 315.7063009947255,\n 315.7063009947255,\n 315.7063009947255,\n 315.7063009947255,\n 315.7063009947255,\n 315.7063009947255,\n 315.7063009947255,\n 315.7063009947255,\n 315.7063009947255,\n 315.7063009947255,\n 315.7063009947255,\n 315.7063009947255,\n 315.7063009947255,\n 315.7063009947255,\n 315.7063009947255,\n 315.7063009947255]"
     },
     "execution_count": 5,
     "metadata": {},
     "output_type": "execute_result"
    }
   ],
   "source": [
    "errors"
   ],
   "metadata": {
    "collapsed": false
   }
  },
  {
   "cell_type": "code",
   "execution_count": null,
   "outputs": [],
   "source": [],
   "metadata": {
    "collapsed": false
   }
  }
 ],
 "metadata": {
  "kernelspec": {
   "display_name": "Python 3",
   "language": "python",
   "name": "python3"
  },
  "language_info": {
   "codemirror_mode": {
    "name": "ipython",
    "version": 2
   },
   "file_extension": ".py",
   "mimetype": "text/x-python",
   "name": "python",
   "nbconvert_exporter": "python",
   "pygments_lexer": "ipython2",
   "version": "2.7.6"
  }
 },
 "nbformat": 4,
 "nbformat_minor": 0
}
