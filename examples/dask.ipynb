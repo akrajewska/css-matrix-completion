{
 "cells": [
  {
   "cell_type": "code",
   "execution_count": 1,
   "outputs": [],
   "source": [
    "from dask import compute, persist\n",
    "import dask.array as da\n",
    "import numpy as np\n",
    "from dask_glm.algorithms import proximal_grad, admm\n",
    "from dask_glm.utils import make_y"
   ],
   "metadata": {
    "collapsed": false
   }
  },
  {
   "cell_type": "code",
   "execution_count": 2,
   "outputs": [
    {
     "ename": "OSError",
     "evalue": "Timed out trying to connect to tcp://localhost:8786 after 30 s",
     "output_type": "error",
     "traceback": [
      "\u001B[0;31m---------------------------------------------------------------------------\u001B[0m",
      "\u001B[0;31mCancelledError\u001B[0m                            Traceback (most recent call last)",
      "File \u001B[0;32m/usr/lib/python3.8/asyncio/tasks.py:465\u001B[0m, in \u001B[0;36mwait_for\u001B[0;34m(fut, timeout, loop)\u001B[0m\n\u001B[1;32m    464\u001B[0m \u001B[38;5;28;01mtry\u001B[39;00m:\n\u001B[0;32m--> 465\u001B[0m     \u001B[43mfut\u001B[49m\u001B[38;5;241;43m.\u001B[39;49m\u001B[43mresult\u001B[49m\u001B[43m(\u001B[49m\u001B[43m)\u001B[49m\n\u001B[1;32m    466\u001B[0m \u001B[38;5;28;01mexcept\u001B[39;00m exceptions\u001B[38;5;241m.\u001B[39mCancelledError \u001B[38;5;28;01mas\u001B[39;00m exc:\n",
      "\u001B[0;31mCancelledError\u001B[0m: ",
      "\nThe above exception was the direct cause of the following exception:\n",
      "\u001B[0;31mTimeoutError\u001B[0m                              Traceback (most recent call last)",
      "File \u001B[0;32m~/.pyenv/versions/3.9.5/lib/python3.8/site-packages/distributed/comm/core.py:291\u001B[0m, in \u001B[0;36mconnect\u001B[0;34m(addr, timeout, deserialize, handshake_overrides, **connection_args)\u001B[0m\n\u001B[1;32m    290\u001B[0m \u001B[38;5;28;01mtry\u001B[39;00m:\n\u001B[0;32m--> 291\u001B[0m     comm \u001B[38;5;241m=\u001B[39m \u001B[38;5;28;01mawait\u001B[39;00m asyncio\u001B[38;5;241m.\u001B[39mwait_for(\n\u001B[1;32m    292\u001B[0m         connector\u001B[38;5;241m.\u001B[39mconnect(loc, deserialize\u001B[38;5;241m=\u001B[39mdeserialize, \u001B[38;5;241m*\u001B[39m\u001B[38;5;241m*\u001B[39mconnection_args),\n\u001B[1;32m    293\u001B[0m         timeout\u001B[38;5;241m=\u001B[39m\u001B[38;5;28mmin\u001B[39m(intermediate_cap, time_left()),\n\u001B[1;32m    294\u001B[0m     )\n\u001B[1;32m    295\u001B[0m     \u001B[38;5;28;01mbreak\u001B[39;00m\n",
      "File \u001B[0;32m/usr/lib/python3.8/asyncio/tasks.py:467\u001B[0m, in \u001B[0;36mwait_for\u001B[0;34m(fut, timeout, loop)\u001B[0m\n\u001B[1;32m    466\u001B[0m \u001B[38;5;28;01mexcept\u001B[39;00m exceptions\u001B[38;5;241m.\u001B[39mCancelledError \u001B[38;5;28;01mas\u001B[39;00m exc:\n\u001B[0;32m--> 467\u001B[0m     \u001B[38;5;28;01mraise\u001B[39;00m exceptions\u001B[38;5;241m.\u001B[39mTimeoutError() \u001B[38;5;28;01mfrom\u001B[39;00m \u001B[38;5;21;01mexc\u001B[39;00m\n\u001B[1;32m    468\u001B[0m \u001B[38;5;28;01melse\u001B[39;00m:\n",
      "\u001B[0;31mTimeoutError\u001B[0m: ",
      "\nThe above exception was the direct cause of the following exception:\n",
      "\u001B[0;31mOSError\u001B[0m                                   Traceback (most recent call last)",
      "Cell \u001B[0;32mIn [2], line 2\u001B[0m\n\u001B[1;32m      1\u001B[0m \u001B[38;5;28;01mfrom\u001B[39;00m \u001B[38;5;21;01mdistributed\u001B[39;00m \u001B[38;5;28;01mimport\u001B[39;00m Client\n\u001B[0;32m----> 2\u001B[0m client \u001B[38;5;241m=\u001B[39m Client(\u001B[38;5;124m'\u001B[39m\u001B[38;5;124mlocalhost:8786\u001B[39m\u001B[38;5;124m'\u001B[39m)\n\u001B[1;32m      3\u001B[0m client\n",
      "File \u001B[0;32m~/.pyenv/versions/3.9.5/lib/python3.8/site-packages/distributed/client.py:943\u001B[0m, in \u001B[0;36mClient.__init__\u001B[0;34m(self, address, loop, timeout, set_as_default, scheduler_file, security, asynchronous, name, heartbeat_interval, serializers, deserializers, extensions, direct_to_workers, connection_limit, **kwargs)\u001B[0m\n\u001B[1;32m    940\u001B[0m preload_argv \u001B[38;5;241m=\u001B[39m dask\u001B[38;5;241m.\u001B[39mconfig\u001B[38;5;241m.\u001B[39mget(\u001B[38;5;124m\"\u001B[39m\u001B[38;5;124mdistributed.client.preload-argv\u001B[39m\u001B[38;5;124m\"\u001B[39m)\n\u001B[1;32m    941\u001B[0m \u001B[38;5;28mself\u001B[39m\u001B[38;5;241m.\u001B[39mpreloads \u001B[38;5;241m=\u001B[39m preloading\u001B[38;5;241m.\u001B[39mprocess_preloads(\u001B[38;5;28mself\u001B[39m, preload, preload_argv)\n\u001B[0;32m--> 943\u001B[0m \u001B[38;5;28;43mself\u001B[39;49m\u001B[38;5;241;43m.\u001B[39;49m\u001B[43mstart\u001B[49m\u001B[43m(\u001B[49m\u001B[43mtimeout\u001B[49m\u001B[38;5;241;43m=\u001B[39;49m\u001B[43mtimeout\u001B[49m\u001B[43m)\u001B[49m\n\u001B[1;32m    944\u001B[0m Client\u001B[38;5;241m.\u001B[39m_instances\u001B[38;5;241m.\u001B[39madd(\u001B[38;5;28mself\u001B[39m)\n\u001B[1;32m    946\u001B[0m \u001B[38;5;28;01mfrom\u001B[39;00m \u001B[38;5;21;01mdistributed\u001B[39;00m\u001B[38;5;21;01m.\u001B[39;00m\u001B[38;5;21;01mrecreate_tasks\u001B[39;00m \u001B[38;5;28;01mimport\u001B[39;00m ReplayTaskClient\n",
      "File \u001B[0;32m~/.pyenv/versions/3.9.5/lib/python3.8/site-packages/distributed/client.py:1133\u001B[0m, in \u001B[0;36mClient.start\u001B[0;34m(self, **kwargs)\u001B[0m\n\u001B[1;32m   1131\u001B[0m     \u001B[38;5;28mself\u001B[39m\u001B[38;5;241m.\u001B[39m_started \u001B[38;5;241m=\u001B[39m asyncio\u001B[38;5;241m.\u001B[39mensure_future(\u001B[38;5;28mself\u001B[39m\u001B[38;5;241m.\u001B[39m_start(\u001B[38;5;241m*\u001B[39m\u001B[38;5;241m*\u001B[39mkwargs))\n\u001B[1;32m   1132\u001B[0m \u001B[38;5;28;01melse\u001B[39;00m:\n\u001B[0;32m-> 1133\u001B[0m     \u001B[43msync\u001B[49m\u001B[43m(\u001B[49m\u001B[38;5;28;43mself\u001B[39;49m\u001B[38;5;241;43m.\u001B[39;49m\u001B[43mloop\u001B[49m\u001B[43m,\u001B[49m\u001B[43m \u001B[49m\u001B[38;5;28;43mself\u001B[39;49m\u001B[38;5;241;43m.\u001B[39;49m\u001B[43m_start\u001B[49m\u001B[43m,\u001B[49m\u001B[43m \u001B[49m\u001B[38;5;241;43m*\u001B[39;49m\u001B[38;5;241;43m*\u001B[39;49m\u001B[43mkwargs\u001B[49m\u001B[43m)\u001B[49m\n",
      "File \u001B[0;32m~/.pyenv/versions/3.9.5/lib/python3.8/site-packages/distributed/utils.py:406\u001B[0m, in \u001B[0;36msync\u001B[0;34m(loop, func, callback_timeout, *args, **kwargs)\u001B[0m\n\u001B[1;32m    404\u001B[0m \u001B[38;5;28;01mif\u001B[39;00m error:\n\u001B[1;32m    405\u001B[0m     typ, exc, tb \u001B[38;5;241m=\u001B[39m error\n\u001B[0;32m--> 406\u001B[0m     \u001B[38;5;28;01mraise\u001B[39;00m exc\u001B[38;5;241m.\u001B[39mwith_traceback(tb)\n\u001B[1;32m    407\u001B[0m \u001B[38;5;28;01melse\u001B[39;00m:\n\u001B[1;32m    408\u001B[0m     \u001B[38;5;28;01mreturn\u001B[39;00m result\n",
      "File \u001B[0;32m~/.pyenv/versions/3.9.5/lib/python3.8/site-packages/distributed/utils.py:379\u001B[0m, in \u001B[0;36msync.<locals>.f\u001B[0;34m()\u001B[0m\n\u001B[1;32m    377\u001B[0m         future \u001B[38;5;241m=\u001B[39m asyncio\u001B[38;5;241m.\u001B[39mwait_for(future, callback_timeout)\n\u001B[1;32m    378\u001B[0m     future \u001B[38;5;241m=\u001B[39m asyncio\u001B[38;5;241m.\u001B[39mensure_future(future)\n\u001B[0;32m--> 379\u001B[0m     result \u001B[38;5;241m=\u001B[39m \u001B[38;5;28;01myield\u001B[39;00m future\n\u001B[1;32m    380\u001B[0m \u001B[38;5;28;01mexcept\u001B[39;00m \u001B[38;5;167;01mException\u001B[39;00m:\n\u001B[1;32m    381\u001B[0m     error \u001B[38;5;241m=\u001B[39m sys\u001B[38;5;241m.\u001B[39mexc_info()\n",
      "File \u001B[0;32m~/.pyenv/versions/3.9.5/lib/python3.8/site-packages/tornado/gen.py:769\u001B[0m, in \u001B[0;36mRunner.run\u001B[0;34m(self)\u001B[0m\n\u001B[1;32m    766\u001B[0m exc_info \u001B[38;5;241m=\u001B[39m \u001B[38;5;28;01mNone\u001B[39;00m\n\u001B[1;32m    768\u001B[0m \u001B[38;5;28;01mtry\u001B[39;00m:\n\u001B[0;32m--> 769\u001B[0m     value \u001B[38;5;241m=\u001B[39m \u001B[43mfuture\u001B[49m\u001B[38;5;241;43m.\u001B[39;49m\u001B[43mresult\u001B[49m\u001B[43m(\u001B[49m\u001B[43m)\u001B[49m\n\u001B[1;32m    770\u001B[0m \u001B[38;5;28;01mexcept\u001B[39;00m \u001B[38;5;167;01mException\u001B[39;00m:\n\u001B[1;32m    771\u001B[0m     exc_info \u001B[38;5;241m=\u001B[39m sys\u001B[38;5;241m.\u001B[39mexc_info()\n",
      "File \u001B[0;32m~/.pyenv/versions/3.9.5/lib/python3.8/site-packages/distributed/client.py:1213\u001B[0m, in \u001B[0;36mClient._start\u001B[0;34m(self, timeout, **kwargs)\u001B[0m\n\u001B[1;32m   1210\u001B[0m \u001B[38;5;28mself\u001B[39m\u001B[38;5;241m.\u001B[39mscheduler_comm \u001B[38;5;241m=\u001B[39m \u001B[38;5;28;01mNone\u001B[39;00m\n\u001B[1;32m   1212\u001B[0m \u001B[38;5;28;01mtry\u001B[39;00m:\n\u001B[0;32m-> 1213\u001B[0m     \u001B[38;5;28;01mawait\u001B[39;00m \u001B[38;5;28mself\u001B[39m\u001B[38;5;241m.\u001B[39m_ensure_connected(timeout\u001B[38;5;241m=\u001B[39mtimeout)\n\u001B[1;32m   1214\u001B[0m \u001B[38;5;28;01mexcept\u001B[39;00m (\u001B[38;5;167;01mOSError\u001B[39;00m, \u001B[38;5;167;01mImportError\u001B[39;00m):\n\u001B[1;32m   1215\u001B[0m     \u001B[38;5;28;01mawait\u001B[39;00m \u001B[38;5;28mself\u001B[39m\u001B[38;5;241m.\u001B[39m_close()\n",
      "File \u001B[0;32m~/.pyenv/versions/3.9.5/lib/python3.8/site-packages/distributed/client.py:1276\u001B[0m, in \u001B[0;36mClient._ensure_connected\u001B[0;34m(self, timeout)\u001B[0m\n\u001B[1;32m   1273\u001B[0m \u001B[38;5;28mself\u001B[39m\u001B[38;5;241m.\u001B[39m_connecting_to_scheduler \u001B[38;5;241m=\u001B[39m \u001B[38;5;28;01mTrue\u001B[39;00m\n\u001B[1;32m   1275\u001B[0m \u001B[38;5;28;01mtry\u001B[39;00m:\n\u001B[0;32m-> 1276\u001B[0m     comm \u001B[38;5;241m=\u001B[39m \u001B[38;5;28;01mawait\u001B[39;00m connect(\n\u001B[1;32m   1277\u001B[0m         \u001B[38;5;28mself\u001B[39m\u001B[38;5;241m.\u001B[39mscheduler\u001B[38;5;241m.\u001B[39maddress, timeout\u001B[38;5;241m=\u001B[39mtimeout, \u001B[38;5;241m*\u001B[39m\u001B[38;5;241m*\u001B[39m\u001B[38;5;28mself\u001B[39m\u001B[38;5;241m.\u001B[39mconnection_args\n\u001B[1;32m   1278\u001B[0m     )\n\u001B[1;32m   1279\u001B[0m     comm\u001B[38;5;241m.\u001B[39mname \u001B[38;5;241m=\u001B[39m \u001B[38;5;124m\"\u001B[39m\u001B[38;5;124mClient->Scheduler\u001B[39m\u001B[38;5;124m\"\u001B[39m\n\u001B[1;32m   1280\u001B[0m     \u001B[38;5;28;01mif\u001B[39;00m timeout \u001B[38;5;129;01mis\u001B[39;00m \u001B[38;5;129;01mnot\u001B[39;00m \u001B[38;5;28;01mNone\u001B[39;00m:\n",
      "File \u001B[0;32m~/.pyenv/versions/3.9.5/lib/python3.8/site-packages/distributed/comm/core.py:317\u001B[0m, in \u001B[0;36mconnect\u001B[0;34m(addr, timeout, deserialize, handshake_overrides, **connection_args)\u001B[0m\n\u001B[1;32m    315\u001B[0m         \u001B[38;5;28;01mawait\u001B[39;00m asyncio\u001B[38;5;241m.\u001B[39msleep(backoff)\n\u001B[1;32m    316\u001B[0m \u001B[38;5;28;01melse\u001B[39;00m:\n\u001B[0;32m--> 317\u001B[0m     \u001B[38;5;28;01mraise\u001B[39;00m \u001B[38;5;167;01mOSError\u001B[39;00m(\n\u001B[1;32m    318\u001B[0m         \u001B[38;5;124mf\u001B[39m\u001B[38;5;124m\"\u001B[39m\u001B[38;5;124mTimed out trying to connect to \u001B[39m\u001B[38;5;132;01m{\u001B[39;00maddr\u001B[38;5;132;01m}\u001B[39;00m\u001B[38;5;124m after \u001B[39m\u001B[38;5;132;01m{\u001B[39;00mtimeout\u001B[38;5;132;01m}\u001B[39;00m\u001B[38;5;124m s\u001B[39m\u001B[38;5;124m\"\u001B[39m\n\u001B[1;32m    319\u001B[0m     ) \u001B[38;5;28;01mfrom\u001B[39;00m \u001B[38;5;21;01mactive_exception\u001B[39;00m\n\u001B[1;32m    321\u001B[0m local_info \u001B[38;5;241m=\u001B[39m {\n\u001B[1;32m    322\u001B[0m     \u001B[38;5;241m*\u001B[39m\u001B[38;5;241m*\u001B[39mcomm\u001B[38;5;241m.\u001B[39mhandshake_info(),\n\u001B[1;32m    323\u001B[0m     \u001B[38;5;241m*\u001B[39m\u001B[38;5;241m*\u001B[39m(handshake_overrides \u001B[38;5;129;01mor\u001B[39;00m {}),\n\u001B[1;32m    324\u001B[0m }\n\u001B[1;32m    325\u001B[0m \u001B[38;5;28;01mtry\u001B[39;00m:\n\u001B[1;32m    326\u001B[0m     \u001B[38;5;66;03m# This would be better, but connections leak if worker is closed quickly\u001B[39;00m\n\u001B[1;32m    327\u001B[0m     \u001B[38;5;66;03m# write, handshake = await asyncio.gather(comm.write(local_info), comm.read())\u001B[39;00m\n",
      "\u001B[0;31mOSError\u001B[0m: Timed out trying to connect to tcp://localhost:8786 after 30 s"
     ]
    }
   ],
   "source": [
    "from distributed import Client\n",
    "client = Client('localhost:8786')\n",
    "client"
   ],
   "metadata": {
    "collapsed": false
   }
  },
  {
   "cell_type": "code",
   "execution_count": null,
   "outputs": [],
   "source": [],
   "metadata": {
    "collapsed": false
   }
  }
 ],
 "metadata": {
  "kernelspec": {
   "display_name": "Python 3",
   "language": "python",
   "name": "python3"
  },
  "language_info": {
   "codemirror_mode": {
    "name": "ipython",
    "version": 2
   },
   "file_extension": ".py",
   "mimetype": "text/x-python",
   "name": "python",
   "nbconvert_exporter": "python",
   "pygments_lexer": "ipython2",
   "version": "2.7.6"
  }
 },
 "nbformat": 4,
 "nbformat_minor": 0
}
